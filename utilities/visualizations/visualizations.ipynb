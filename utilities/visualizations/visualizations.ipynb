{
 "cells": [
  {
   "cell_type": "code",
   "execution_count": 71,
   "metadata": {
    "collapsed": true,
    "trusted": false
   },
   "outputs": [],
   "source": [
    "from matplotlib.colors import LinearSegmentedColormap\n",
    "from matplotlib.colors import TwoSlopeNorm\n",
    "from matplotlib.pyplot import rc_context\n",
    "from mpl_toolkits.axes_grid1 import ImageGrid\n",
    "from skimage.transform import resize\n",
    "import matplotlib.pyplot as plt\n",
    "import matplotlib\n",
    "\n",
    "from plottify import autosize\n",
    "from PIL import Image\n",
    "import seaborn as sns\n",
    "import numpy as np\n",
    "import pandas as pd\n",
    "import scanpy as sc\n",
    "import fastcluster\n",
    "import anndata\n",
    "import random\n",
    "import h5py\n",
    "import sys\n",
    "import os\n",
    "\n",
    "main_path = '/media/adalberto/Disk2/PhD_Workspace'\n",
    "sys.path.append(main_path)\n",
    "from models.clustering.correlations import *\n",
    "from models.clustering.data_processing import *\n",
    "from models.visualization.attention_maps import *\n",
    "from data_manipulation.data import Data"
   ]
  },
  {
   "cell_type": "markdown",
   "source": [
    "# Figure method"
   ],
   "metadata": {
    "collapsed": false
   }
  },
  {
   "cell_type": "code",
   "execution_count": 72,
   "outputs": [],
   "source": [
    "def plot_clustermap(all_data_rho, mask, x_label, y_label, directory, file_name, figsize, vcenter=0, annot=True, fmt='.2f', cox_os_clusters=None, cox_pfs_clusters=None, col_linkage=None,\n",
    "                    fontsize_ticks=28, fontsize_labels=30, fontsize_annot=20, dendrogram_ratio=0.2, show_row_cols=False, show=False, p_th=0.05):\n",
    "    with rc_context({'figure.figsize': figsize}):\n",
    "        colors        = None\n",
    "        colors_masked = None\n",
    "        if cox_os_clusters is not None:\n",
    "            # Column colors.\n",
    "            coef_df   = cox_os_clusters.sort_values(by=groupby)\n",
    "            cmap_PiYG = plt.cm.PiYG_r\n",
    "            norm      = TwoSlopeNorm(vmin=coef_df['coef'].min(), vcenter=0, vmax=coef_df['coef'].max())\n",
    "            column_os_colors              = pd.Series([cmap_PiYG(norm(coef)) for p, coef in zip(coef_df['p'], coef_df['coef'])], name='Cox Coefficient\\nOverall Survival')\n",
    "            column_os_colors_masked       = pd.Series([cmap_PiYG(norm(coef)) if p <p_th else cmap_PiYG(norm(0))[:3] for p, coef in zip(coef_df['p'], coef_df['coef'])], name='Cox Coefficient\\nOverall Survival')\n",
    "            column_os_colors_masked.index = coef_df[groupby].astype(str)\n",
    "            column_os_colors.index        = coef_df[groupby].astype(str)\n",
    "            colors        = column_os_colors\n",
    "            colors_masked = column_os_colors_masked\n",
    "\n",
    "            if cox_pfs_clusters is not None:\n",
    "                cox_pfs_clusters = cox_pfs_clusters.sort_values(by=groupby)\n",
    "                cmap_PiYG = plt.cm.PiYG_r\n",
    "                norm      = TwoSlopeNorm(vmin=cox_pfs_clusters['coef'].astype(float).min(), vcenter=0, vmax=cox_pfs_clusters['coef'].astype(float).max())\n",
    "                column_pfs_colors        = pd.Series([cmap_PiYG(norm(coef)) for p, coef in zip(cox_pfs_clusters['p'], cox_pfs_clusters['coef'])],\n",
    "                                                     name='Cox Coefficient\\nProgression Free Survival')\n",
    "                column_pfs_colors_masked = pd.Series([cmap_PiYG(norm(coef)) if p <p_th else cmap_PiYG(norm(0))[:3] for p, coef in zip(cox_pfs_clusters['p'], cox_pfs_clusters['coef'])],\n",
    "                                                     name='Cox Coefficient\\nProgression Free Survival')\n",
    "                column_pfs_colors.index        = coef_df[groupby].astype(str)\n",
    "                column_pfs_colors_masked.index = coef_df[groupby].astype(str)\n",
    "\n",
    "                colors = pd.concat([column_os_colors, column_pfs_colors],axis=1)\n",
    "                colors_masked = pd.concat([column_os_colors_masked, column_pfs_colors_masked],axis=1)\n",
    "\n",
    "        for name, col_colors in [('', colors), ('_masked', colors_masked)]:\n",
    "            sns.set_theme(style='white')\n",
    "            vref = np.max(np.abs(all_data_rho.values))\n",
    "            if vcenter == 0:\n",
    "                norm = TwoSlopeNorm(vmin=-vref, vcenter=vcenter, vmax=vref)\n",
    "            else:\n",
    "                norm = TwoSlopeNorm(vmin=all_data_rho.values.min(), vcenter=vcenter, vmax=all_data_rho.values.max())\n",
    "            if col_colors is not None:\n",
    "                g = sns.clustermap(all_data_rho, vmin=-vref, vmax=vref, method='ward', metric='euclidean', annot=annot, mask=mask, col_colors=col_colors, col_linkage=col_linkage, fmt=fmt,\n",
    "                                   norm=norm, cmap=sns.diverging_palette(250, 20, as_cmap=True), dendrogram_ratio=dendrogram_ratio, annot_kws={\"size\": fontsize_annot},  yticklabels=True,  xticklabels=True)\n",
    "                g.ax_col_colors.set_yticklabels(g.ax_col_colors.get_ymajorticklabels(), fontsize=fontsize_ticks)\n",
    "            else:\n",
    "                g = sns.clustermap(all_data_rho, vmin=-vref, vmax=vref, method='ward', metric='euclidean', annot=annot, mask=mask, col_linkage=col_linkage, fmt=fmt,\n",
    "                                   norm=norm, cmap=sns.diverging_palette(250, 20, as_cmap=True), dendrogram_ratio=dendrogram_ratio, annot_kws={\"size\": fontsize_annot},  yticklabels=True,  xticklabels=True)\n",
    "            g.ax_heatmap.set_ylabel('\\n%s' % y_label, fontsize=fontsize_labels)\n",
    "            g.ax_heatmap.set_xlabel('\\n%s' % x_label, fontsize=fontsize_labels)\n",
    "            g._figure.set_size_inches(figsize[0]*1.1, figsize[1]*1.1)\n",
    "            g.ax_heatmap.set_xticklabels(g.ax_heatmap.get_xmajorticklabels(), fontsize=fontsize_ticks)\n",
    "            g.ax_heatmap.set_yticklabels(g.ax_heatmap.get_ymajorticklabels(), fontsize=fontsize_ticks)\n",
    "            g.ax_cbar.tick_params(labelsize=fontsize_ticks)\n",
    "            if show:\n",
    "                plt.show()\n",
    "            else:\n",
    "                plt.savefig('%s/%s' % (directory, file_name.replace('.jpg', '%s.jpg' % name)))\n",
    "                plt.close(g._figure)\n",
    "\n",
    "            if col_colors is None:\n",
    "                break\n",
    "    return g"
   ],
   "metadata": {
    "collapsed": false,
    "pycharm": {
     "name": "#%%\n"
    }
   }
  },
  {
   "cell_type": "markdown",
   "source": [
    "# Variables for visualization"
   ],
   "metadata": {
    "collapsed": false
   }
  },
  {
   "cell_type": "code",
   "execution_count": 75,
   "outputs": [],
   "source": [
    "# Dataset name for images.\n",
    "dataset            = 'TCGAFFPE_LUADLUSC_5x_60pc'\n",
    "additional_dataset = 'NYUFFPE_survival_5x_60pc'\n",
    "\n",
    "# Clustering folder details.\n",
    "meta_folder    = 'subtypes_nn250'\n",
    "meta_field     = 'labels'\n",
    "matching_field = 'slides'\n",
    "\n",
    "resolution     = 9.5\n",
    "groupby        = 'leiden_%s' % resolution\n",
    "fold_number    = 0\n",
    "\n",
    "folds_pickle       = '%s/utilities/files/LUAD/overall_survival_TCGA_folds.pkl' % main_path\n",
    "h5_complete_path   = '%s/results/BarlowTwins_3/TCGAFFPE_LUADLUSC_5x_60pc_250K/h224_w224_n3_zdim128_filtered/hdf5_TCGAFFPE_LUADLUSC_5x_60pc_he_complete_lungsubtype_survival_filtered.h5' % main_path\n",
    "h5_additional_path = None\n",
    "\n",
    "file_name = h5_complete_path.split('/hdf5_')[1].split('.h5')[0] + '_%s__fold%s' % (groupby.replace('.', 'p'), fold_number)\n",
    "if h5_additional_path is not None: file_additional = h5_additional_path.split('/hdf5_')[1].split('.h5')[0] + '_%s__fold%s' % (groupby.replace('.', 'p'), fold_number)\n",
    "\n",
    "# Setup folder esqueme\n",
    "main_cluster_path = h5_complete_path.split('hdf5_')[0]\n",
    "main_cluster_path = os.path.join(main_cluster_path, meta_folder)\n",
    "figures_path      = os.path.join(main_cluster_path, 'figures')\n",
    "if not os.path.isdir(figures_path):\n",
    "    os.makedirs(figures_path)\n"
   ],
   "metadata": {
    "collapsed": false,
    "pycharm": {
     "name": "#%%\n"
    },
    "trusted": false
   }
  },
  {
   "cell_type": "code",
   "execution_count": 89,
   "outputs": [],
   "source": [
    "# Read H5 AnnData file where the clustering was done.\n",
    "adata_train, h5ad_path = read_h5ad_reference(h5_complete_path, meta_folder, groupby, fold_number)\n",
    "\n",
    "# Read slide representations.\n",
    "all_data = build_cohort_representations(meta_folder, meta_field, matching_field, groupby, fold_number, folds_pickle, h5_complete_path, None,\n",
    "                                        type_composition='clr', min_tiles=100, use_conn=False, use_ratio=False, top_variance_feat=0, reduction=2)\n",
    "\n",
    "complete_df, additional_complete_df, frame_clusters, frame_samples, features = all_data"
   ],
   "metadata": {
    "collapsed": false,
    "pycharm": {
     "name": "#%%\n"
    },
    "trusted": false
   }
  },
  {
   "cell_type": "markdown",
   "source": [
    "## Clustermap Slide representatations vs Clusters"
   ],
   "metadata": {
    "collapsed": false
   }
  },
  {
   "cell_type": "code",
   "execution_count": null,
   "outputs": [],
   "source": [
    "def clustermap_representations(features, slide_rep_df, adata, leiden_linkage_method, leiden_cor_method, method_slides, metric_slides, figsize, directory, file_name, use_leiden=False):\n",
    "    slide_rep_df = slide_rep_df.iloc[1:].copy(deep=True).reset_index()\n",
    "\n",
    "    col_colors = None\n",
    "\n",
    "    if use_leiden:\n",
    "        # Leiden clusters dendrogram.\n",
    "        sc.tl.dendrogram(adata, groupby, use_rep='X', linkage_method=leiden_linkage_method, cor_method=leiden_cor_method)\n",
    "        col_linkage = adata.uns['dendrogram_%s' % groupby]['linkage']\n",
    "    else:\n",
    "        col_linkage = fastcluster.linkage(slide_rep_df[features].transpose(), method=method_slides, metric=metric_slides)\n",
    "\n",
    "    # Row hierarchical clustering\n",
    "    row_linkage = fastcluster.linkage(slide_rep_df[features], method=method_slides, metric=metric_slides)\n",
    "\n",
    "    # Row and Columns colors\n",
    "    # TODO: This is hard value for color, needs to be modified for different number of labels.\n",
    "    row_lut = dict(zip(np.unique(slide_rep_df[meta_field]), ['blue', 'orange']))\n",
    "    print(row_lut)\n",
    "    row_colors = pd.Series(slide_rep_df[meta_field].map(row_lut), name='Cancer Type\\nSlide\\n')\n",
    "\n",
    "    g = sns.clustermap(slide_rep_df[features].astype(float), dendrogram_ratio=(.05, .235),  row_colors=row_colors, col_colors=col_colors, row_linkage=row_linkage, col_linkage=col_linkage, xticklabels=True, cmap='rocket_r', figsize=figsize)\n",
    "    g.ax_heatmap.set_xlabel('Clusters', fontsize=12)\n",
    "    g.ax_heatmap.set_ylabel('Slides', fontsize=12)\n",
    "    g.ax_heatmap.set_yticks([])\n",
    "    g.ax_row_colors.tick_params(axis='both', length=0)\n",
    "    if col_colors is not None: g.ax_col_colors.tick_params(axis='both', length=0)\n",
    "    plt.savefig(os.path.join(directory, file_name))\n",
    "    plt.show()\n",
    "    plt.close()\n",
    "\n",
    "use_leiden            = False\n",
    "leiden_linkage_method = 'average'\n",
    "leiden_cor_method     = 'spearman'\n",
    "method_slides         = 'ward'\n",
    "metric_slides         = 'correlation'\n",
    "\n",
    "clustermap_representations(features, complete_df, adata_train, leiden_linkage_method, leiden_cor_method, method_slides, metric_slides, figsize=(30,10), directory=figures_path, file_name=file_name+'_representations.jpg', use_leiden=use_leiden)\n"
   ],
   "metadata": {
    "collapsed": false,
    "pycharm": {
     "name": "#%%\n",
     "is_executing": true
    },
    "trusted": false
   }
  },
  {
   "cell_type": "markdown",
   "source": [
    "## Cluster Network"
   ],
   "metadata": {
    "collapsed": false
   }
  },
  {
   "cell_type": "code",
   "execution_count": 4,
   "outputs": [],
   "source": [
    "done = False\n",
    "if os.path.isfile(h5ad_path.replace('.h5ad', '_paga.h5ad')):\n",
    "    done=True\n",
    "    adata_train = anndata.read_h5ad(h5ad_path.replace('.h5ad', '_paga.h5ad'))\n",
    "else:\n",
    "    sc.tl.paga(adata_train, groups=groupby, neighbors_key='nn_leiden')"
   ],
   "metadata": {
    "collapsed": false,
    "pycharm": {
     "name": "#%%\n"
    },
    "trusted": false
   }
  },
  {
   "cell_type": "code",
   "execution_count": null,
   "outputs": [],
   "source": [
    "# Graph visualization related\n",
    "# This next variable can be modified so it more clearly shows the cluster network\n",
    "# Layout corresponds to the technique for the cluster network layout.\n",
    "# Threshold corresponds to threshold for the edge connection between nodes, higher values keep only stronger bonds.\n",
    "layout           = 'fa'  # ‘fa’, ‘fr’, ‘rt’, ‘rt_circular’, ‘drl’, ‘eq_tree’\n",
    "random_state     = 3\n",
    "threshold        = 1.0\n",
    "\n",
    "# Figure related\n",
    "node_size_scale  = 5\n",
    "node_size_power  = 0.5\n",
    "edge_width_scale = .01\n",
    "fontsize    = 10\n",
    "fontoutline = 2\n",
    "\n",
    "fig = plt.figure(figsize=(100,10))\n",
    "ax  = fig.add_subplot(1, 3, 1)\n",
    "sc.pl.paga(adata_train, layout=layout, random_state=random_state, color=meta_field, threshold=threshold, node_size_scale=node_size_scale, node_size_power=node_size_power,\n",
    "           edge_width_scale=edge_width_scale, fontsize=fontsize, fontoutline=fontoutline, frameon=False, show=False, ax=ax)\n",
    "plt.show()"
   ],
   "metadata": {
    "collapsed": false,
    "pycharm": {
     "name": "#%%\n",
     "is_executing": true
    },
    "trusted": false
   }
  },
  {
   "cell_type": "code",
   "execution_count": 29,
   "outputs": [],
   "source": [
    "# Run UMAP based on PAGA cluster visualization.\n",
    "if not done:\n",
    "    sc.tl.umap(adata_train, init_pos=\"paga\", neighbors_key='nn_leiden')\n",
    "    adata_train.write(h5ad_path.replace('.h5ad', '_paga.h5ad'))"
   ],
   "metadata": {
    "collapsed": false,
    "pycharm": {
     "name": "#%%\n"
    },
    "trusted": false
   }
  },
  {
   "cell_type": "code",
   "execution_count": null,
   "outputs": [],
   "source": [
    "# Figure related\n",
    "marker_size   = 10\n",
    "l_markerscale = 2\n",
    "l_size        = 18\n",
    "l_t_size      = 20\n",
    "l_box_w       = 3\n",
    "ax_size       = 30\n",
    "\n",
    "fig = plt.figure(figsize=(100,10))\n",
    "ax  = fig.add_subplot(1, 3, 1)\n",
    "ax = sc.pl.umap(adata_train, ax=ax, color=meta_field, size=marker_size, show=False, frameon=False, na_color='black')\n",
    "if meta_field is not None:\n",
    "    legend_c = ax.legend(loc='best', markerscale=l_markerscale, title='Subtype', prop={'size': l_size})\n",
    "    legend_c.get_title().set_fontsize(l_t_size)\n",
    "    legend_c.get_frame().set_linewidth(l_box_w)\n",
    "    # TODO: This is hard value for color, needs to be modified for different number of labels.\n",
    "    legend_c.get_texts()[0].set_text('LUAD')\n",
    "    legend_c.get_texts()[1].set_text('LUSC')\n",
    "ax.set_title('Tile Representations', fontsize=ax_size, fontweight='bold')\n",
    "plt.show()"
   ],
   "metadata": {
    "collapsed": false,
    "pycharm": {
     "name": "#%%\n",
     "is_executing": true
    }
   }
  }
 ],
 "metadata": {
  "kernelspec": {
   "display_name": "Python 3",
   "language": "python",
   "name": "python3"
  },
  "language_info": {
   "codemirror_mode": {
    "name": "ipython",
    "version": 2
   },
   "file_extension": ".py",
   "mimetype": "text/x-python",
   "name": "python",
   "nbconvert_exporter": "python",
   "pygments_lexer": "ipython2",
   "version": "2.7.6"
  }
 },
 "nbformat": 4,
 "nbformat_minor": 0
}
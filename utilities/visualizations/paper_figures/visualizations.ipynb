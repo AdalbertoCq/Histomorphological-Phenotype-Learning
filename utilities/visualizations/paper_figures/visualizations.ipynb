{
 "cells": [
  {
   "cell_type": "markdown",
   "metadata": {
    "collapsed": false,
    "pycharm": {
     "name": "#%% md\n"
    }
   },
   "source": [
    "# Imports"
   ]
  },
  {
   "cell_type": "code",
   "execution_count": 1,
   "metadata": {
    "collapsed": true,
    "pycharm": {
     "name": "#%%\n"
    }
   },
   "outputs": [
    {
     "name": "stderr",
     "output_type": "stream",
     "text": [
      "/home/adalberto/.local/lib/python3.7/site-packages/umap/__init__.py:9: UserWarning: Tensorflow not installed; ParametricUMAP will be unavailable\n",
      "  warn(\"Tensorflow not installed; ParametricUMAP will be unavailable\")\n"
     ]
    }
   ],
   "source": [
    "from mpl_toolkits.axes_grid1 import ImageGrid\n",
    "from matplotlib.colors       import LinearSegmentedColormap\n",
    "from skimage.transform       import resize\n",
    "from plottify                import autosize\n",
    "from sklearn                 import metrics\n",
    "from PIL                     import Image\n",
    "from adjustText              import adjust_text\n",
    "from scipy.cluster           import hierarchy\n",
    "import statsmodels.api   as sm\n",
    "import matplotlib.pyplot as plt\n",
    "import numpy             as np\n",
    "import seaborn           as sns\n",
    "import pandas            as pd\n",
    "import scanpy            as sc\n",
    "import matplotlib\n",
    "import anndata\n",
    "import random\n",
    "import fastcluster\n",
    "import copy\n",
    "import umap\n",
    "import h5py\n",
    "import sys\n",
    "import os\n",
    "\n",
    "# Modify to include your local path.\n",
    "sys.path.append('/media/adalberto/Disk2/PhD_Workspace')\n",
    "from models.clustering.cox_proportional_hazard_regression_leiden_clusters import *\n",
    "from models.visualization.attention_maps import *\n",
    "from models.clustering.data_processing import *\n",
    "from data_manipulation.data import Data"
   ]
  },
  {
   "cell_type": "markdown",
   "metadata": {
    "collapsed": false,
    "pycharm": {
     "name": "#%% md\n"
    }
   },
   "source": [
    "# Paper Figure - Clustermap Slides vs Clusters"
   ]
  },
  {
   "cell_type": "code",
   "execution_count": 14,
   "metadata": {
    "collapsed": false,
    "pycharm": {
     "name": "#%%\n"
    }
   },
   "outputs": [],
   "source": [
    "# Workspace path.\n",
    "main_path = '/media/adalberto/Disk2/PhD_Workspace'\n",
    "\n",
    "# Image dataset variables.\n",
    "dataset            = 'TCGAFFPE_LUADLUSC_5x_60pc'\n",
    "\n",
    "############# Lungsubtype\n",
    "meta_field     = 'luad'\n",
    "matching_field = 'slides'\n",
    "resolution     = 2.0\n",
    "fold_number    = 4\n",
    "groupby        = 'leiden_%s' % resolution\n",
    "meta_folder    = 'lungtype_nn250_clusterfold4'\n",
    "folds_pickle   = '/media/adalberto/Disk2/PhD_Workspace/utilities/files/LUADLUSC/lungsubtype_Institutions.pkl'\n",
    "\n",
    "# Institutions.\n",
    "inst_csv   = '/media/adalberto/Disk2/PhD_Workspace/utilities/files/TCGA/TCGA_Institutions.csv'\n",
    "inst_frame = pd.read_csv(inst_csv)\n",
    "inst_frame = inst_frame[inst_frame['Study Name'].isin(['Lung adenocarcinoma', 'Lung squamous cell carcinoma'])]\n",
    "\n",
    "# Representations.\n",
    "h5_complete_path   = '%s/results/BarlowTwins_3/TCGAFFPE_LUADLUSC_5x_60pc_250K/h224_w224_n3_zdim128_filtered/hdf5_TCGAFFPE_LUADLUSC_5x_60pc_he_complete_lungsubtype_survival_filtered.h5' % main_path\n",
    "h5_additional_path = None\n"
   ]
  },
  {
   "cell_type": "code",
   "execution_count": 15,
   "metadata": {
    "collapsed": false,
    "pycharm": {
     "name": "#%%\n"
    }
   },
   "outputs": [],
   "source": [
    "frames = build_cohort_representations(meta_folder, meta_field, matching_field, groupby, fold_number, folds_pickle, h5_complete_path, h5_additional_path, 'percent', 100)\n",
    "complete_df, additional_complete_df, frame_clusters, frame_samples, features = frames"
   ]
  },
  {
   "cell_type": "code",
   "execution_count": null,
   "metadata": {
    "collapsed": false,
    "pycharm": {
     "is_executing": true,
     "name": "#%%\n"
    }
   },
   "outputs": [],
   "source": [
    "def clustermap_representations(features, complete_df, frame_clusters, method_slides, metric_slides, figsize, fontsize_labels, fontsize_ticks, dendrogram_ratio):\n",
    "    slide_rep_df = complete_df.iloc[1:].copy(deep=True)\n",
    "\n",
    "    # Row and Columns colors\n",
    "    row_lut = dict(zip(np.unique(slide_rep_df[meta_field]), ['blue', 'orange']))\n",
    "    row_colors = pd.Series(slide_rep_df[meta_field].map(row_lut), name='LUSC/LUAD\\nWSI\\n')\n",
    "\n",
    "    purity_color_map = LinearSegmentedColormap.from_list('cluster_purity', ['blue','orange'])\n",
    "    purities = [purity if flag else 100-purity for purity, flag in zip(frame_clusters['Subtype Purity(%)'], frame_clusters[meta_field])]\n",
    "    col_colors = pd.Series([matplotlib.colors.to_hex(purity_color_map(perc/100)) for perc in purities], name='HPC\\nLUSC/LUAD\\nPurity\\n')\n",
    "\n",
    "    g = sns.clustermap(slide_rep_df[features].astype(float)*100, vmin=0, vmax=100, row_colors=row_colors, col_colors=col_colors, col_linkage=None, row_linkage=None, method=method_slides, metric=metric_slides, cmap='rocket_r', figsize=figsize, dendrogram_ratio=dendrogram_ratio, tree_kws=dict(linewidths=3.0))\n",
    "\n",
    "    # X ticks and labels\n",
    "    g.ax_heatmap.set_xticklabels(g.ax_heatmap.get_xmajorticklabels(), fontsize=fontsize_ticks)\n",
    "    g.ax_heatmap.set_xlabel('HPC', fontsize=fontsize_labels)\n",
    "    # Y ticks and labels\n",
    "    g.ax_heatmap.set_ylabel('Whole Slide Image (WSI)',   fontsize=fontsize_labels)\n",
    "    g.ax_heatmap.set_yticks([])\n",
    "    # Row color labels\n",
    "    g.ax_row_colors.tick_params(axis='both', length=0)\n",
    "    g.ax_row_colors.tick_params(axis='x', which='major', labelsize=fontsize_labels)\n",
    "    # Column color labels\n",
    "    g.ax_col_colors.tick_params(axis='both', length=0)\n",
    "    g.ax_col_colors.tick_params(axis='y', which='major', labelsize=fontsize_labels)\n",
    "    g.ax_cbar.tick_params(labelsize=fontsize_ticks)\n",
    "\n",
    "    [label.set_fontweight('bold') for label in g.ax_col_colors.get_yticklabels()]\n",
    "    [label.set_fontweight('bold') for label in g.ax_row_colors.get_xticklabels()]\n",
    "    [label.set_fontweight('bold') for label in g.ax_cbar.get_yticklabels()]\n",
    "\n",
    "    for sel_ax in [g.ax_heatmap]:\n",
    "        for ticks in [sel_ax.xaxis.get_major_ticks(), sel_ax.yaxis.get_major_ticks()]:\n",
    "            for tick in ticks:\n",
    "                tick.label1.set_fontsize(fontsize_ticks)\n",
    "                tick.label1.set_fontweight('bold')\n",
    "\n",
    "    g.ax_heatmap.set_xlabel('Histomorphological Phenotype Cluster (HPC)', fontsize=fontsize_labels, fontweight='bold')\n",
    "    g.ax_heatmap.set_ylabel('Whole Slide Image (WSI)',   fontsize=fontsize_labels, fontweight='bold')\n",
    "\n",
    "    plt.show()\n",
    "\n",
    "method_slides = 'ward'\n",
    "metric_slides = 'correlation'\n",
    "sns.set_theme(style='white')\n",
    "clustermap_representations(features, complete_df, frame_clusters, method_slides, metric_slides, figsize=(35,25), fontsize_labels=50, fontsize_ticks=27, dendrogram_ratio=(0.1,0.2))\n"
   ]
  },
  {
   "cell_type": "markdown",
   "metadata": {
    "collapsed": false,
    "pycharm": {
     "name": "#%% md\n"
    }
   },
   "source": [
    "# Paper Figure - UMAP Slide representations"
   ]
  },
  {
   "cell_type": "code",
   "execution_count": null,
   "metadata": {
    "collapsed": false,
    "pycharm": {
     "is_executing": true,
     "name": "#%%\n"
    }
   },
   "outputs": [],
   "source": [
    "frames = build_cohort_representations(meta_folder, meta_field, matching_field, groupby, fold_number, folds_pickle, h5_complete_path, h5_additional_path, 'clr', 100)\n",
    "complete_df, additional_complete_df, frame_clusters, frame_samples, features = frames\n",
    "\n",
    "columns = [col for col in complete_df.columns if col != 'luad' and col != 'samples' and col != 'slides']\n",
    "\n",
    "labels = complete_df.to_numpy()[1:,-1]\n",
    "data   = complete_df.to_numpy()[1:,2:-1]\n",
    "df     = pd.DataFrame(data, columns=columns)\n",
    "df['Lung Type'] = labels\n",
    "df['Cohort']       = 'TCGA'\n",
    "\n",
    "df_all = df\n"
   ]
  },
  {
   "cell_type": "code",
   "execution_count": null,
   "metadata": {
    "collapsed": false,
    "pycharm": {
     "is_executing": true,
     "name": "#%%\n"
    }
   },
   "outputs": [],
   "source": [
    "scatter_size    = 2000\n",
    "\n",
    "figsize         = (20,20)\n",
    "fontsize_labels = 60\n",
    "fontsize_legend = 60\n",
    "l_markerscale   = 10\n",
    "l_box_w         = 3\n",
    "lw              = 5\n",
    "\n",
    "min_dist     = 0.0\n",
    "n_components = 2\n",
    "nn           = [25]\n",
    "metrics      = ['euclidean']\n",
    "\n",
    "for metric in metrics:\n",
    "    for n_neighbors in nn:\n",
    "        print(metric, n_neighbors)\n",
    "        # UMAP\n",
    "        fit = umap.UMAP(n_neighbors=n_neighbors, min_dist=min_dist, n_components=n_components, metric=metric)\n",
    "        u   = fit.fit_transform(df_all[columns])\n",
    "        df_all['UMAP Dim. 0'] = u[:, 0]\n",
    "        df_all['UMAP Dim. 1'] = u[:, 1]\n",
    "\n",
    "        fig   = plt.figure(figsize=figsize)\n",
    "        ax    = fig.add_subplot(1, 1, 1)\n",
    "\n",
    "        # Scatter plot.\n",
    "        sns.scatterplot(data=df_all, x='UMAP Dim. 0', y='UMAP Dim. 1', hue='Lung Type', style='Cohort', markers={'TCGA':'v', 'NYU':'s'}, s=scatter_size, ax=ax)\n",
    "        ax.set_xlabel('UMAP Dim. 0', fontsize=fontsize_labels)\n",
    "        ax.set_ylabel('UMAP Dim. 1', fontsize=fontsize_labels)\n",
    "        ax.set_title('Whole Slide Image\\nVector Representations',  fontsize=fontsize_labels, fontweight='bold')\n",
    "        ax.tick_params(axis='both', which='major', labelsize=fontsize_labels)\n",
    "        # legend = ax.legend(loc='lower left', markerscale=markerscale, prop={'size': fontsize_legend-5}, ncol=2)\n",
    "        legend = ax.legend(loc='upper left', markerscale=l_markerscale, prop={'size': fontsize_legend-5}, ncol=2)\n",
    "        legend.get_texts()[1].set_text('LUSC')\n",
    "        legend.get_texts()[2].set_text('LUAD')\n",
    "        legend.get_texts()[0].set_size(fontsize_legend)\n",
    "        legend.get_texts()[3].set_size(fontsize_legend)\n",
    "        legend.get_frame().set_linewidth(l_box_w)\n",
    "\n",
    "        for tick in ax.xaxis.get_major_ticks():\n",
    "            tick.label1.set_fontsize(fontsize_labels)\n",
    "            tick.label1.set_fontweight('bold')\n",
    "        for tick in ax.yaxis.get_major_ticks():\n",
    "            tick.label1.set_fontsize(fontsize_labels)\n",
    "            tick.label1.set_fontweight('bold')\n",
    "\n",
    "        ax.set_xlabel('UMAP Dim. 0', fontsize=fontsize_labels, fontweight='bold')\n",
    "        ax.set_ylabel('UMAP Dim. 1', fontsize=fontsize_labels, fontweight='bold')\n",
    "        for axis in ['top','bottom','left','right']:\n",
    "            ax.spines[axis].set_linewidth(4)\n",
    "\n",
    "        plt.tight_layout()\n",
    "        plt.show()\n"
   ]
  },
  {
   "cell_type": "markdown",
   "metadata": {
    "collapsed": false,
    "pycharm": {
     "name": "#%% md\n"
    }
   },
   "source": [
    "# Paper Figure - ROC curve - Institutions & Folds"
   ]
  },
  {
   "cell_type": "code",
   "execution_count": 113,
   "metadata": {
    "collapsed": false,
    "pycharm": {
     "name": "#%%\n"
    }
   },
   "outputs": [],
   "source": [
    "# Workspace path.\n",
    "main_path = '/media/adalberto/Disk2/PhD_Workspace'\n",
    "\n",
    "# Image dataset variables.\n",
    "dataset            = 'TCGAFFPE_LUADLUSC_5x_60pc'\n",
    "\n",
    "############# Lungsubtype\n",
    "meta_field        = 'luad'\n",
    "matching_field    = 'slides'\n",
    "type_composition = 'clr'\n",
    "resolution       = 2.0\n",
    "fold_number      = 4\n",
    "groupby          = 'leiden_%s' % resolution\n",
    "meta_folder      = 'lungtype_nn250_clusterfold4'\n",
    "folds_pickle     = '/media/adalberto/Disk2/PhD_Workspace/utilities/files/LUADLUSC/lungsubtype_Institutions.pkl'\n",
    "min_tiles        = 100\n",
    "label            = 1\n",
    "alpha           = 10.0\n",
    "\n",
    "# Institutions.\n",
    "inst_csv   = '/media/adalberto/Disk2/PhD_Workspace/utilities/files/TCGA/TCGA_Institutions.csv'\n",
    "inst_frame = pd.read_csv(inst_csv)\n",
    "inst_frame = inst_frame[inst_frame['Study Name'].isin(['Lung adenocarcinoma', 'Lung squamous cell carcinoma'])]\n",
    "# Institutions.\n",
    "replace_dict = {'Ontario Institute for Cancer Research (OICR)':'Ontario Institute for Cancer Research',\n",
    "                'Ontario Institute for Cancer Research (OICR)/Ottawa':'Ontario Institute for Cancer Research',\n",
    "                'St Joseph\\'s Medical Center (MD)': 'St. Joseph\\'s Medical Center (MD)',\n",
    "                'Fox Chase':'Fox Chase Cancer Center'}\n",
    "\n",
    "inst_csv   = '/media/adalberto/Disk2/PhD_Workspace/utilities/files/TCGA/TCGA_Institutions.csv'\n",
    "inst_frame = pd.read_csv(inst_csv)\n",
    "inst_frame = inst_frame[inst_frame['Study Name'].isin(['Lung adenocarcinoma', 'Lung squamous cell carcinoma'])][['TSS Code', 'Source Site']]\n",
    "inst_frame['Source Site'] = inst_frame['Source Site'].replace(replace_dict)\n",
    "inst_frame['TSS Code']    = inst_frame['TSS Code'].replace({'1':'01','2':'02','3':'03','4':'04','5':'05', '6':'06','7':'07','8':'08','9':'09'})\n",
    "\n",
    "# Representations.\n",
    "h5_complete_path   = '%s/results/BarlowTwins_3/TCGAFFPE_LUADLUSC_5x_60pc_250K/h224_w224_n3_zdim128_filtered/hdf5_TCGAFFPE_LUADLUSC_5x_60pc_he_complete_lungsubtype_survival_filtered.h5' % main_path\n",
    "h5_additional_path = None\n"
   ]
  },
  {
   "cell_type": "code",
   "execution_count": null,
   "metadata": {
    "collapsed": false,
    "pycharm": {
     "is_executing": true,
     "name": "#%%\n"
    }
   },
   "outputs": [],
   "source": [
    "# Get folds from existing split.\n",
    "folds = load_existing_split(folds_pickle)\n",
    "\n",
    "# Path for alpha Logistic Regression results.\n",
    "main_cluster_path = h5_complete_path.split('hdf5_')[0]\n",
    "main_cluster_path = os.path.join(main_cluster_path, meta_folder)\n",
    "adatas_path       = os.path.join(main_cluster_path, 'adatas')\n",
    "\n",
    "data_res_folds = dict()\n",
    "data_res_folds[resolution] = dict()\n",
    "for i, fold in enumerate(folds):\n",
    "    # Read CSV files for train, validation, test, and additional sets.\n",
    "    dataframes, complete_df, leiden_clusters = read_csvs(adatas_path, matching_field, groupby, i, fold, h5_complete_path, h5_additional_path, additional_as_fold=False, force_fold=fold_number)\n",
    "    train_df, valid_df, test_df, additional_df = dataframes\n",
    "\n",
    "    # Check clusters and diversity within.\n",
    "    frame_clusters, frame_samples = create_frames(train_df, groupby, meta_field, diversity_key=matching_field, reduction=2)\n",
    "\n",
    "    # Create representations per sample: cluster % of total sample.\n",
    "    data, data_df, features = prepare_data_classes(dataframes, matching_field, meta_field, groupby, leiden_clusters, type_composition, min_tiles, use_conn=False, use_ratio=False, top_variance_feat=0)\n",
    "\n",
    "    # Insert institutions.\n",
    "    data_dfs = list()\n",
    "    for dataframe in data_df:\n",
    "        if dataframe is not None:\n",
    "            sample_slide = dataframe['slides'].values[0]\n",
    "            if dataframe is not None and 'TCGA' in str(sample_slide):\n",
    "                dataframe.insert(0, 'TSS Code', dataframe['slides'].apply(lambda x: x.split('-')[1]))\n",
    "                dataframe = pd.merge(dataframe, inst_frame, on='TSS Code', how='left')\n",
    "        else:\n",
    "            dataframe = None\n",
    "        data_dfs.append(dataframe)\n",
    "\n",
    "    # Include features that are not the regular leiden clusters.\n",
    "    frame_clusters = include_features_frame_clusters(frame_clusters, leiden_clusters, features, groupby)\n",
    "\n",
    "    # Store representations.\n",
    "    data_res_folds[resolution][i] = {'data':data, 'data_df':data_dfs, 'complete_df':complete_df, 'features':features, 'frame_clusters':frame_clusters, 'leiden_clusters':leiden_clusters}\n",
    "\n",
    "    # Information.\n",
    "    print('\\t\\tFold', i, 'Features:', len(features), 'Clusters:', len(leiden_clusters))\n"
   ]
  },
  {
   "cell_type": "code",
   "execution_count": null,
   "metadata": {
    "collapsed": false,
    "pycharm": {
     "is_executing": true,
     "name": "#%%\n"
    }
   },
   "outputs": [],
   "source": [
    "from sklearn                 import metrics\n",
    "\n",
    "folds_roc = dict()\n",
    "folds_roc['test'] = dict()\n",
    "if h5_additional_path is not None:\n",
    "    folds_roc['additional'] = dict()\n",
    "for i, fold in enumerate(folds):\n",
    "    # Load data for classification.\n",
    "    data            = data_res_folds[resolution][i]['data']\n",
    "    data_df         = data_res_folds[resolution][i]['data_df']\n",
    "    features        = data_res_folds[resolution][i]['features']\n",
    "    frame_clusters  = data_res_folds[resolution][i]['frame_clusters']\n",
    "    leiden_clusters = data_res_folds[resolution][i]['leiden_clusters']\n",
    "\n",
    "    train,    valid,    test,    additional    = data\n",
    "    train_df, valid_df, test_df, additional_df = data_df\n",
    "    train_data, train_labels = train\n",
    "\n",
    "    # One-vs-rest for Logistic Regression.\n",
    "    model                  = sm.Logit(endog=train_labels[:,label], exog=train_data).fit_regularized(method='l1', alpha=alpha, disp=0)\n",
    "\n",
    "    train, valid, test, additional = data\n",
    "    train_data, train_labels = train\n",
    "    valid_data, valid_labels = valid\n",
    "    test_data,  test_labels  = test\n",
    "    if additional is not None:\n",
    "        additional_data, additional_labels = additional\n",
    "\n",
    "    # Predictions.\n",
    "    train_pred = model.predict(exog=train_data)\n",
    "    valid_pred = model.predict(exog=valid_data)\n",
    "    test_pred  = model.predict(exog=test_data)\n",
    "    train_df['predictions'] = train_pred\n",
    "    valid_df['predictions'] = valid_pred\n",
    "    test_df['predictions']  = test_pred\n",
    "    if additional is not None:\n",
    "        additional_pred = model.predict(exog=additional_data)\n",
    "        additional_df['predictions']  = additional_pred\n",
    "    data_res_folds[resolution][i]['data_df'] = [train_df, valid_df, test_df, additional_df]\n",
    "\n",
    "    folds_roc['test'][i] = dict()\n",
    "    fpr, tpr, thresholds = metrics.roc_curve(list(test_labels[:,label]), list(test_pred))\n",
    "    folds_roc['test'][i]['fpr'] = fpr\n",
    "    folds_roc['test'][i]['tpr'] = tpr\n",
    "\n",
    "    if additional is not None:\n",
    "        folds_roc['additional'][i] = dict()\n",
    "        fpr, tpr, thresholds = metrics.roc_curve(list(additional_labels[:,label]), list(additional_pred))\n",
    "        folds_roc['additional'][i]['fpr'] = fpr\n",
    "        folds_roc['additional'][i]['tpr'] = tpr\n"
   ]
  },
  {
   "cell_type": "code",
   "execution_count": null,
   "metadata": {
    "collapsed": false,
    "pycharm": {
     "is_executing": true,
     "name": "#%%\n"
    }
   },
   "outputs": [],
   "source": [
    "if 'TSS Code' not in complete_df.columns:\n",
    "    complete_df.insert(0, 'TSS Code', complete_df['slides'].apply(lambda x: x.split('-')[1]))\n",
    "    complete_df = pd.merge(complete_df, inst_frame, on='TSS Code', how='left')\n",
    "complete_df['Source Site'] = complete_df['Source Site'].replace({'Mary Bird Perkins Cancer Center - Our Lady of the Lake':'Mary Bird Perkins Cancer Center', 'Thoraxklinik at University Hospital Heidelberg':'University Hospital Heidelberg'})\n",
    "a, frame_samples = cluster_diversity(complete_df, frame_clusters, groupby, diversity_key='Source Site')\n",
    "frame_samples    = frame_samples[[groupby, 'Source Site', 'Purity (%)', 'Counts']]\n",
    "frame_samples['Purity (%)'] = frame_samples['Purity (%)']/100\n",
    "frame_samples"
   ]
  },
  {
   "cell_type": "markdown",
   "metadata": {
    "collapsed": false,
    "pycharm": {
     "name": "#%% md\n"
    }
   },
   "source": [
    "## Paper Figure - Insitutions per cluster"
   ]
  },
  {
   "cell_type": "code",
   "execution_count": null,
   "metadata": {
    "collapsed": false,
    "pycharm": {
     "is_executing": true,
     "name": "#%%\n"
    }
   },
   "outputs": [],
   "source": [
    "work_df = complete_df.copy(deep=True)\n",
    "work_df['Weight'] = 1\n",
    "site_distribution           = work_df[['Weight', 'Source Site']].groupby('Source Site').count()\n",
    "site_distribution['Weight'] = site_distribution['Weight']/site_distribution['Weight'].sum()\n",
    "site_distribution['Group'] = 'All Institutions'\n",
    "site_distribution = site_distribution.reset_index()\n",
    "site_distribution = site_distribution.sort_values(by='Source Site', ascending=False)\n",
    "\n",
    "\n",
    "figsize = (50, 20)\n",
    "fontsize_labels = 38\n",
    "fontsize_ticks  = 33\n",
    "rotation        = 45\n",
    "\n",
    "subsampled = np.random.choice(leiden_clusters, size=12, replace=False)\n",
    "\n",
    "plotted = 0\n",
    "while plotted < len(subsampled):\n",
    "    f, (ax1, ax2, ax3, ax4, ax5) = plt.subplots(1, 5, sharey=True, sharex=True, figsize=figsize)\n",
    "\n",
    "    frame_samples = frame_samples.sort_values(by='Source Site')\n",
    "    for i, ax in  enumerate((ax2, ax3, ax4, ax5)):\n",
    "        if plotted >= len(leiden_clusters.tolist()):\n",
    "            ax.spines['top'].set_visible(False)\n",
    "            ax.spines['right'].set_visible(False)\n",
    "            ax.spines['bottom'].set_visible(False)\n",
    "            ax.spines['left'].set_visible(False)\n",
    "            ax.yaxis.label.set_visible(False)\n",
    "            ax.xaxis.label.set_visible(False)\n",
    "            ax.get_xaxis().set_ticks([])\n",
    "        else:\n",
    "            ratio = complete_df[complete_df[groupby]==subsampled[plotted]].shape[0]/complete_df.shape[0]*100\n",
    "            ax.set_title('HPC %s\\n%s%s of entire\\npopulation' % (subsampled[plotted],np.round(ratio,1), '%'),  fontsize=fontsize_labels*1.2, fontweight='bold')\n",
    "            work_samples_df = frame_samples[frame_samples[groupby]==subsampled[plotted]]\n",
    "            sns.barplot(y='Source Site', x='Purity (%)', data=work_samples_df, ax=ax, palette='tab20')\n",
    "            ax.yaxis.label.set_visible(False)\n",
    "            plotted += 1\n",
    "\n",
    "    for ax in (ax1, ax2, ax3, ax4, ax5):\n",
    "        ax.set_xlim([0.0, frame_samples['Purity (%)'].max()+0.05])\n",
    "        for tick in ax.xaxis.get_major_ticks():\n",
    "            tick.label1.set_fontsize(fontsize_ticks)\n",
    "            tick.label1.set_fontweight('bold')\n",
    "            tick.label1.set_rotation(rotation)\n",
    "        for tick in ax1.yaxis.get_major_ticks():\n",
    "            tick.label1.set_fontsize(fontsize_ticks)\n",
    "            tick.label1.set_fontweight('bold')\n",
    "\n",
    "        ax.set_ylabel('Institution',            fontsize=fontsize_labels*1.1, fontweight='bold')\n",
    "        ax.set_xlabel('Institution percentage', fontsize=fontsize_labels*1.1, fontweight='bold')\n",
    "        for axis in ['top','bottom','left','right']:\n",
    "            ax.spines[axis].set_linewidth(4)\n",
    "\n",
    "\n",
    "    sns.barplot(y='Source Site', x='Weight', data=site_distribution, ax=ax1, palette='tab20')\n",
    "    ax1.set_title('Entire\\npopulation',      fontsize=fontsize_labels*1.2, fontweight='bold')\n",
    "    ax1.set_ylabel('Institution',            fontsize=fontsize_labels*1.1, fontweight='bold')\n",
    "    ax1.set_xlabel('Institution percentage', fontsize=fontsize_labels*1.1, fontweight='bold')\n",
    "\n",
    "    plt.tight_layout()\n",
    "    plt.show()\n",
    "    # break\n"
   ]
  },
  {
   "cell_type": "markdown",
   "metadata": {
    "collapsed": false,
    "pycharm": {
     "name": "#%% md\n"
    }
   },
   "source": [
    "## Paper Figure - ROC Insitutions"
   ]
  },
  {
   "cell_type": "code",
   "execution_count": 123,
   "metadata": {
    "collapsed": false,
    "pycharm": {
     "name": "#%%\n"
    }
   },
   "outputs": [],
   "source": [
    "naming_replacements = {'Mary Bird Perkins Cancer Center - Our Lady of the Lake':'Mary Bird Perkins Cancer Center', 'Thoraxklinik at University Hospital Heidelberg':'University Hospital Heidelberg'}\n",
    "\n",
    "data = list()\n",
    "institutions_roc = dict()\n",
    "for i, fold in enumerate(folds):\n",
    "    train_df, valid_df, test_df, additional_df = data_res_folds[resolution][i]['data_df']\n",
    "    test_df['Source Site'] = test_df['Source Site'].replace(naming_replacements)\n",
    "    for institution in np.unique(test_df['Source Site']):\n",
    "        test_inst_df = test_df[test_df['Source Site']==institution].copy(deep=True)\n",
    "\n",
    "        test_labels = test_inst_df[meta_field].values.tolist()\n",
    "        test_pred   = test_inst_df['predictions'].values.tolist()\n",
    "\n",
    "        samples = len(test_labels)\n",
    "\n",
    "        fpr = None\n",
    "        tpr = None\n",
    "        thresholds = None\n",
    "        roc_auc = None\n",
    "\n",
    "        if len(np.unique(test_labels)) != 1:\n",
    "            fpr, tpr, thresholds = metrics.roc_curve(test_labels, test_pred)\n",
    "            roc_auc = auc(fpr, tpr)\n",
    "\n",
    "        institutions_roc[institution] = [fpr, tpr, thresholds, roc_auc, samples]\n",
    "        data.append((institution, roc_auc, samples, i))\n",
    "\n",
    "data = pd.DataFrame(data, columns=['Institution', 'AUC', 'Sample Size', 'Fold'])\n",
    "data = data.sort_values(by='Sample Size', ascending=False)"
   ]
  },
  {
   "cell_type": "code",
   "execution_count": null,
   "metadata": {
    "collapsed": false,
    "pycharm": {
     "is_executing": true,
     "name": "#%%\n"
    }
   },
   "outputs": [],
   "source": [
    "data['Institution'] = data['Institution'].replace(naming_replacements)\n",
    "data = data.sort_values(by='AUC', ascending=False)\n",
    "# data = data[~data['AUC'].isna()]\n",
    "figsize = (50, 27)\n",
    "fontsize_labels = 45\n",
    "\n",
    "f, (ax1, ax2) = plt.subplots(1, 2, sharey=True, figsize=figsize)\n",
    "sns.barplot(y='Institution', x='AUC', data=data, ax=ax1, palette='tab20')\n",
    "ax1.xaxis.set_ticks(np.arange(0, 1.05, 0.05))\n",
    "ax1.set_xlim([0.0, 1.005])\n",
    "ax1.axvline(0.93, linestyle='--', color='black')\n",
    "for tick in ax1.xaxis.get_major_ticks():\n",
    "    tick.label1.set_fontsize(fontsize_labels)\n",
    "    tick.label1.set_fontweight('bold')\n",
    "    tick.label1.set_rotation(90)\n",
    "for tick in ax1.yaxis.get_major_ticks():\n",
    "    tick.label1.set_fontsize(fontsize_labels)\n",
    "    tick.label1.set_fontweight('bold')\n",
    "\n",
    "ax1.set_ylabel('Institution',  fontsize=fontsize_labels*1.1, fontweight='bold')\n",
    "ax1.set_xlabel('AUC', fontsize=fontsize_labels*1.1, fontweight='bold')\n",
    "for axis in ['top','bottom','left','right']:\n",
    "    ax1.spines[axis].set_linewidth(4)\n",
    "\n",
    "sns.barplot(y='Institution', x='Sample Size', data=data, ax=ax2, palette='tab20')\n",
    "for tick in ax2.xaxis.get_major_ticks():\n",
    "    tick.label1.set_fontsize(fontsize_labels)\n",
    "    tick.label1.set_fontweight('bold')\n",
    "for tick in ax2.yaxis.get_major_ticks():\n",
    "    tick.label1.set_fontsize(fontsize_labels)\n",
    "    tick.label1.set_fontweight('bold')\n",
    "\n",
    "ax2.yaxis.label.set_visible(False)\n",
    "ax2.set_xlabel('Sample Size', fontsize=fontsize_labels*1.1, fontweight='bold')\n",
    "for axis in ['top','bottom','left','right']:\n",
    "    ax2.spines[axis].set_linewidth(4)\n",
    "\n",
    "plt.tight_layout()\n",
    "plt.show()"
   ]
  },
  {
   "cell_type": "code",
   "execution_count": null,
   "metadata": {
    "collapsed": false,
    "pycharm": {
     "is_executing": true,
     "name": "#%%\n"
    }
   },
   "outputs": [],
   "source": [
    "\n",
    "figsize    = (40,20)\n",
    "fontsize_labels = 40\n",
    "fontsize_legend = 32\n",
    "l_box_w         = 3\n",
    "lw              = 5\n",
    "\n",
    "fig   = plt.figure(figsize=figsize)\n",
    "ax    = fig.add_subplot(1, 1, 1)\n",
    "\n",
    "data = data.sort_values(by='Sample Size', ascending=False)\n",
    "for institution in data['Institution'].values:\n",
    "\n",
    "    fpr, tpr, thresholds, roc_auc, samples = institutions_roc[institution]\n",
    "    if roc_auc is None: continue\n",
    "    ax.plot(fpr, tpr, lw=lw, label=\"%s (%s) = %0.2f\" % (institution, samples, roc_auc))\n",
    "\n",
    "\n",
    "legend = ax.legend(bbox_to_anchor=(1.05, 1), loc=2, borderaxespad=0., title=r'$\\bf{Per\\ Institution\\ AUC\\ and\\ Sample\\ Size}$', prop={'size': fontsize_legend-4, 'weight':'bold'})\n",
    "legend.get_title().set_fontsize(fontsize_legend)\n",
    "# set the linewidth of each legend object\n",
    "for line in legend.get_lines():\n",
    "    line.set_linewidth(lw)\n",
    "legend.get_frame().set_linewidth(l_box_w)\n",
    "\n",
    "for tick in ax.xaxis.get_major_ticks():\n",
    "    tick.label1.set_fontsize(fontsize_labels)\n",
    "    tick.label1.set_fontweight('bold')\n",
    "for tick in ax.yaxis.get_major_ticks():\n",
    "    tick.label1.set_fontsize(fontsize_labels)\n",
    "    tick.label1.set_fontweight('bold')\n",
    "\n",
    "ax.set_title('TCGA Cohort',  fontsize=fontsize_labels*1.2, fontweight='bold')\n",
    "ax.set_ylabel('True Positive Rate',  fontsize=fontsize_labels, fontweight='bold')\n",
    "ax.set_xlabel('False Positive Rate', fontsize=fontsize_labels, fontweight='bold')\n",
    "for axis in ['top','bottom','left','right']:\n",
    "    ax.spines[axis].set_linewidth(4)\n",
    "\n",
    "plt.tight_layout()\n",
    "plt.show()\n"
   ]
  },
  {
   "cell_type": "markdown",
   "metadata": {
    "collapsed": false,
    "pycharm": {
     "name": "#%% md\n"
    }
   },
   "source": [
    "## Paper Figure - ROC Folds"
   ]
  },
  {
   "cell_type": "code",
   "execution_count": null,
   "metadata": {
    "collapsed": false,
    "pycharm": {
     "is_executing": true,
     "name": "#%%\n"
    }
   },
   "outputs": [],
   "source": [
    "def plot_auc(ax, fold, title, lw, fontsize_labels, fontsize_legend, l_box_w):\n",
    "    aucs = list()\n",
    "    for i in range(5):\n",
    "        roc_auc = auc(fold[i]['fpr'], fold[i]['tpr'])\n",
    "        aucs.append(roc_auc)\n",
    "        ax.plot(fold[i]['fpr'], fold[i]['tpr'], lw=lw, label=\" Fold %s AUC = %0.3f\" % (i, roc_auc))\n",
    "\n",
    "    mean, minus, plus = mean_confidence_interval(aucs, confidence=0.95)\n",
    "    legend = ax.legend(loc='lower right', title=r'$\\bf{Mean (CI): %s (%s-%s)}$' % (np.round(mean, 3), np.round(minus, 3), np.round(plus, 3)), prop={'size': fontsize_legend-4, 'weight':'bold'})\n",
    "    legend.get_title().set_fontsize(fontsize_legend)\n",
    "    # set the linewidth of each legend object\n",
    "    for line in legend.get_lines():\n",
    "        line.set_linewidth(lw)\n",
    "    legend.get_frame().set_linewidth(l_box_w)\n",
    "\n",
    "    for tick in ax.xaxis.get_major_ticks():\n",
    "        tick.label1.set_fontsize(fontsize_labels)\n",
    "        tick.label1.set_fontweight('bold')\n",
    "    for tick in ax.yaxis.get_major_ticks():\n",
    "        tick.label1.set_fontsize(fontsize_labels)\n",
    "        tick.label1.set_fontweight('bold')\n",
    "\n",
    "    ax.set_title(title,  fontsize=fontsize_labels*1.2, fontweight='bold')\n",
    "    ax.set_ylabel('True Positive Rate',  fontsize=fontsize_labels, fontweight='bold')\n",
    "    ax.set_xlabel('False Positive Rate', fontsize=fontsize_labels, fontweight='bold')\n",
    "    for axis in ['top','bottom','left','right']:\n",
    "        ax.spines[axis].set_linewidth(4)\n",
    "\n",
    "\n",
    "figsize    = (20,20)\n",
    "fontsize_labels = 60\n",
    "fontsize_legend = 60\n",
    "l_box_w         = 3\n",
    "lw              = 5\n",
    "\n",
    "fig   = plt.figure(figsize=figsize)\n",
    "ax    = fig.add_subplot(1, 1, 1)\n",
    "title = 'TCGA Cohort'\n",
    "plot_auc(ax, folds_roc['test'], title, lw, fontsize_labels, fontsize_legend, l_box_w)\n",
    "plt.show()\n"
   ]
  },
  {
   "cell_type": "markdown",
   "metadata": {
    "collapsed": false,
    "pycharm": {
     "name": "#%% md\n"
    }
   },
   "source": [
    "# Paper Figure - Force Cluster Fold Comparison"
   ]
  },
  {
   "cell_type": "markdown",
   "metadata": {
    "collapsed": false,
    "pycharm": {
     "name": "#%% md\n"
    }
   },
   "source": [
    "## LUAD vs LUSC"
   ]
  },
  {
   "cell_type": "code",
   "execution_count": 129,
   "metadata": {
    "collapsed": false,
    "pycharm": {
     "name": "#%%\n"
    }
   },
   "outputs": [],
   "source": [
    "resolution = 2.0\n",
    "force_fold = 4\n",
    "\n",
    "alpha              = 10.0\n",
    "meta_folder        = 'lungtype_nn250'\n",
    "meta_folder_folder = 'lungtype_nn250_clusterfold%s' % force_fold\n",
    "\n",
    "h5_complete_path = '%s/results/BarlowTwins_3/TCGAFFPE_LUADLUSC_5x_60pc_250K/h224_w224_n3_zdim128_filtered/hdf5_TCGAFFPE_LUADLUSC_5x_60pc_he_complete_lungsubtype_survival_filtered.h5' % main_path\n",
    "main_cluster_path  = h5_complete_path.split('hdf5_')[0]\n",
    "cluster_path       = os.path.join(main_cluster_path, meta_folder)\n",
    "cluster_path_force = os.path.join(main_cluster_path, meta_folder_folder)\n",
    "csv_all_path       = os.path.join(cluster_path,       'alpha_%s_mintiles_100/luad_auc_results_mintiles_100.csv' % str(alpha).replace('.', 'p'))\n",
    "csv_all_path_force = os.path.join(cluster_path_force, 'alpha_%s_mintiles_100/luad_auc_results_mintiles_100.csv' % str(alpha).replace('.', 'p'))\n",
    "\n",
    "results_df       = pd.read_csv(csv_all_path)\n",
    "results_df       = results_df[results_df['Leiden Resolution']=='leiden_%s'%resolution].reset_index()\n",
    "\n",
    "results_force_df = pd.read_csv(csv_all_path_force)\n",
    "results_force_df = results_force_df[results_force_df['Leiden Resolution']=='leiden_%s'%resolution].reset_index()\n"
   ]
  },
  {
   "cell_type": "code",
   "execution_count": 130,
   "metadata": {
    "collapsed": false,
    "pycharm": {
     "name": "#%%\n"
    }
   },
   "outputs": [],
   "source": [
    "plot_data = list()\n",
    "for x in results_df.index:\n",
    "    values = results_df.iloc[x].values\n",
    "    plot_data.append((values[2], 'Train',      values[3]))\n",
    "    plot_data.append((values[2], 'Validation', values[4]))\n",
    "    plot_data.append((values[2], 'Test',       values[5]))\n",
    "\n",
    "plot_data = pd.DataFrame(plot_data, columns=['Fold', 'Set', 'AUC'])\n",
    "plot_data['Force Fold'] = 'Clusterig on each fold train set'\n",
    "\n",
    "plot_data_force = list()\n",
    "for x in results_force_df.index:\n",
    "    values = results_force_df.iloc[x].values\n",
    "    plot_data_force.append((values[2], 'Train',      values[3]))\n",
    "    plot_data_force.append((values[2], 'Validation', values[4]))\n",
    "    plot_data_force.append((values[2], 'Test',       values[5]))\n",
    "\n",
    "\n",
    "plot_data_force = pd.DataFrame(plot_data_force, columns=['Fold', 'Set', 'AUC'])\n",
    "plot_data_force['Force Fold'] = 'Common clusters across folds'\n",
    "\n",
    "plot_data = pd.concat([plot_data_force, plot_data], axis=0)"
   ]
  },
  {
   "cell_type": "code",
   "execution_count": null,
   "metadata": {
    "collapsed": false,
    "pycharm": {
     "is_executing": true,
     "name": "#%%\n"
    }
   },
   "outputs": [],
   "source": [
    "\n",
    "figsize         = (15,10)\n",
    "fontsize_labels = 35\n",
    "fontsize_ticks  = 25\n",
    "fontsize_legend = 20\n",
    "l_markerscale   = 1\n",
    "l_box_w         = 2\n",
    "\n",
    "sns.set_theme(style='white')\n",
    "fig   = plt.figure(figsize=figsize)\n",
    "f, ax = plt.subplots(1, 1, sharey=True, sharex=True, figsize=figsize)\n",
    "\n",
    "sns.pointplot(data=plot_data, y='AUC', x='Set', hue='Force Fold', linewidth=2.5, dodge=.4, join=False, capsize=.00, markers='o', ax=ax)\n",
    "\n",
    "for tick in ax.xaxis.get_major_ticks():\n",
    "    tick.label1.set_fontsize(fontsize_ticks)\n",
    "    tick.label1.set_fontweight('bold')\n",
    "for tick in ax.yaxis.get_major_ticks():\n",
    "    tick.label1.set_fontsize(fontsize_ticks)\n",
    "    tick.label1.set_fontweight('bold')\n",
    "for axis in ['top','bottom','left','right']:\n",
    "    ax.spines[axis].set_linewidth(4)\n",
    "ax.set_ylim([0.85, 1.0])\n",
    "\n",
    "ax.set_title('Logistic Regression\\nLUAD vs LUSC', fontsize=fontsize_labels*1.3, fontweight='bold')\n",
    "ax.set_xlabel('Set', fontsize=fontsize_labels, fontweight='bold')\n",
    "ax.set_ylabel('AUC', fontsize=fontsize_labels, fontweight='bold')\n",
    "\n",
    "legend = ax.legend(loc='lower left', title=r'$\\bf{Clustering}$', markerscale=l_markerscale, prop={'size': fontsize_legend, 'weight':'bold'})\n",
    "legend.get_title().set_fontsize(fontsize_legend*1.3)\n",
    "legend.get_frame().set_linewidth(l_box_w)\n",
    "\n",
    "plt.show()\n"
   ]
  },
  {
   "cell_type": "markdown",
   "metadata": {
    "collapsed": false,
    "pycharm": {
     "name": "#%% md\n"
    }
   },
   "source": [
    "## LUAD Overall Survival"
   ]
  },
  {
   "cell_type": "code",
   "execution_count": 132,
   "metadata": {
    "collapsed": false,
    "pycharm": {
     "name": "#%%\n"
    }
   },
   "outputs": [],
   "source": [
    "resolution = 2.0\n",
    "force_fold = 0\n",
    "\n",
    "alpha              = 0.828643\n",
    "meta_folder        = 'luad_overall_survival_nn250'\n",
    "meta_folder_folder = 'luad_overall_survival_nn250_clusterfold%s' % force_fold\n",
    "\n",
    "h5_complete_path = '%s/results/BarlowTwins_3/TCGAFFPE_LUADLUSC_5x_60pc_250K/h224_w224_n3_zdim128_filtered/hdf5_TCGAFFPE_LUADLUSC_5x_60pc_he_complete_lungsubtype_survival_filtered.h5' % main_path\n",
    "main_cluster_path  = h5_complete_path.split('hdf5_')[0]\n",
    "cluster_path       = os.path.join(main_cluster_path, meta_folder)\n",
    "cluster_path_force = os.path.join(main_cluster_path, meta_folder_folder)\n",
    "csv_all_path       = os.path.join(cluster_path,       'c_index_luad_overall_survival_nn250_l1_ratio_0.0_mintiles_100_summary.csv')\n",
    "csv_all_path_force = os.path.join(cluster_path_force, 'c_index_luad_overall_survival_nn250_clusterfold0_l1_ratio_0.0_mintiles_100.csv')\n",
    "\n",
    "results_df       = pd.read_csv(csv_all_path)\n",
    "results_force_df = pd.read_csv(csv_all_path_force)\n"
   ]
  },
  {
   "cell_type": "code",
   "execution_count": 133,
   "metadata": {
    "collapsed": false,
    "pycharm": {
     "name": "#%%\n"
    }
   },
   "outputs": [
    {
     "data": {
      "text/html": [
       "<div>\n",
       "<style scoped>\n",
       "    .dataframe tbody tr th:only-of-type {\n",
       "        vertical-align: middle;\n",
       "    }\n",
       "\n",
       "    .dataframe tbody tr th {\n",
       "        vertical-align: top;\n",
       "    }\n",
       "\n",
       "    .dataframe thead th {\n",
       "        text-align: right;\n",
       "    }\n",
       "</style>\n",
       "<table border=\"1\" class=\"dataframe\">\n",
       "  <thead>\n",
       "    <tr style=\"text-align: right;\">\n",
       "      <th></th>\n",
       "      <th>Fold</th>\n",
       "      <th>Set</th>\n",
       "      <th>C-Index</th>\n",
       "      <th>Force Fold</th>\n",
       "    </tr>\n",
       "  </thead>\n",
       "  <tbody>\n",
       "    <tr>\n",
       "      <th>20</th>\n",
       "      <td>0.000000</td>\n",
       "      <td>Train</td>\n",
       "      <td>0.69</td>\n",
       "      <td>Common clusters across folds</td>\n",
       "    </tr>\n",
       "    <tr>\n",
       "      <th>21</th>\n",
       "      <td>0.000000</td>\n",
       "      <td>Test</td>\n",
       "      <td>0.66</td>\n",
       "      <td>Common clusters across folds</td>\n",
       "    </tr>\n",
       "    <tr>\n",
       "      <th>22</th>\n",
       "      <td>1.000000</td>\n",
       "      <td>Train</td>\n",
       "      <td>0.73</td>\n",
       "      <td>Common clusters across folds</td>\n",
       "    </tr>\n",
       "    <tr>\n",
       "      <th>23</th>\n",
       "      <td>1.000000</td>\n",
       "      <td>Test</td>\n",
       "      <td>0.61</td>\n",
       "      <td>Common clusters across folds</td>\n",
       "    </tr>\n",
       "    <tr>\n",
       "      <th>24</th>\n",
       "      <td>2.000000</td>\n",
       "      <td>Train</td>\n",
       "      <td>0.65</td>\n",
       "      <td>Common clusters across folds</td>\n",
       "    </tr>\n",
       "    <tr>\n",
       "      <th>25</th>\n",
       "      <td>2.000000</td>\n",
       "      <td>Test</td>\n",
       "      <td>0.64</td>\n",
       "      <td>Common clusters across folds</td>\n",
       "    </tr>\n",
       "    <tr>\n",
       "      <th>26</th>\n",
       "      <td>3.000000</td>\n",
       "      <td>Train</td>\n",
       "      <td>0.70</td>\n",
       "      <td>Common clusters across folds</td>\n",
       "    </tr>\n",
       "    <tr>\n",
       "      <th>27</th>\n",
       "      <td>3.000000</td>\n",
       "      <td>Test</td>\n",
       "      <td>0.56</td>\n",
       "      <td>Common clusters across folds</td>\n",
       "    </tr>\n",
       "    <tr>\n",
       "      <th>28</th>\n",
       "      <td>4.000000</td>\n",
       "      <td>Train</td>\n",
       "      <td>0.67</td>\n",
       "      <td>Common clusters across folds</td>\n",
       "    </tr>\n",
       "    <tr>\n",
       "      <th>29</th>\n",
       "      <td>4.000000</td>\n",
       "      <td>Test</td>\n",
       "      <td>0.62</td>\n",
       "      <td>Common clusters across folds</td>\n",
       "    </tr>\n",
       "    <tr>\n",
       "      <th>0</th>\n",
       "      <td>0.086851</td>\n",
       "      <td>Train</td>\n",
       "      <td>0.72</td>\n",
       "      <td>Clusterig on each fold train set</td>\n",
       "    </tr>\n",
       "    <tr>\n",
       "      <th>1</th>\n",
       "      <td>0.086851</td>\n",
       "      <td>Test</td>\n",
       "      <td>0.65</td>\n",
       "      <td>Clusterig on each fold train set</td>\n",
       "    </tr>\n",
       "    <tr>\n",
       "      <th>2</th>\n",
       "      <td>0.086851</td>\n",
       "      <td>Train</td>\n",
       "      <td>0.72</td>\n",
       "      <td>Clusterig on each fold train set</td>\n",
       "    </tr>\n",
       "    <tr>\n",
       "      <th>3</th>\n",
       "      <td>0.086851</td>\n",
       "      <td>Test</td>\n",
       "      <td>0.56</td>\n",
       "      <td>Clusterig on each fold train set</td>\n",
       "    </tr>\n",
       "    <tr>\n",
       "      <th>4</th>\n",
       "      <td>0.086851</td>\n",
       "      <td>Train</td>\n",
       "      <td>0.73</td>\n",
       "      <td>Clusterig on each fold train set</td>\n",
       "    </tr>\n",
       "    <tr>\n",
       "      <th>5</th>\n",
       "      <td>0.086851</td>\n",
       "      <td>Test</td>\n",
       "      <td>0.56</td>\n",
       "      <td>Clusterig on each fold train set</td>\n",
       "    </tr>\n",
       "    <tr>\n",
       "      <th>6</th>\n",
       "      <td>0.086851</td>\n",
       "      <td>Train</td>\n",
       "      <td>0.69</td>\n",
       "      <td>Clusterig on each fold train set</td>\n",
       "    </tr>\n",
       "    <tr>\n",
       "      <th>7</th>\n",
       "      <td>0.086851</td>\n",
       "      <td>Test</td>\n",
       "      <td>0.61</td>\n",
       "      <td>Clusterig on each fold train set</td>\n",
       "    </tr>\n",
       "    <tr>\n",
       "      <th>8</th>\n",
       "      <td>0.086851</td>\n",
       "      <td>Train</td>\n",
       "      <td>0.70</td>\n",
       "      <td>Clusterig on each fold train set</td>\n",
       "    </tr>\n",
       "    <tr>\n",
       "      <th>9</th>\n",
       "      <td>0.086851</td>\n",
       "      <td>Test</td>\n",
       "      <td>0.63</td>\n",
       "      <td>Clusterig on each fold train set</td>\n",
       "    </tr>\n",
       "  </tbody>\n",
       "</table>\n",
       "</div>"
      ],
      "text/plain": [
       "        Fold    Set  C-Index                        Force Fold\n",
       "20  0.000000  Train     0.69      Common clusters across folds\n",
       "21  0.000000   Test     0.66      Common clusters across folds\n",
       "22  1.000000  Train     0.73      Common clusters across folds\n",
       "23  1.000000   Test     0.61      Common clusters across folds\n",
       "24  2.000000  Train     0.65      Common clusters across folds\n",
       "25  2.000000   Test     0.64      Common clusters across folds\n",
       "26  3.000000  Train     0.70      Common clusters across folds\n",
       "27  3.000000   Test     0.56      Common clusters across folds\n",
       "28  4.000000  Train     0.67      Common clusters across folds\n",
       "29  4.000000   Test     0.62      Common clusters across folds\n",
       "0   0.086851  Train     0.72  Clusterig on each fold train set\n",
       "1   0.086851   Test     0.65  Clusterig on each fold train set\n",
       "2   0.086851  Train     0.72  Clusterig on each fold train set\n",
       "3   0.086851   Test     0.56  Clusterig on each fold train set\n",
       "4   0.086851  Train     0.73  Clusterig on each fold train set\n",
       "5   0.086851   Test     0.56  Clusterig on each fold train set\n",
       "6   0.086851  Train     0.69  Clusterig on each fold train set\n",
       "7   0.086851   Test     0.61  Clusterig on each fold train set\n",
       "8   0.086851  Train     0.70  Clusterig on each fold train set\n",
       "9   0.086851   Test     0.63  Clusterig on each fold train set"
      ]
     },
     "execution_count": 133,
     "metadata": {},
     "output_type": "execute_result"
    }
   ],
   "source": [
    "results_resolution  = results_df[results_df.Resolution==resolution]\n",
    "alphas              = np.unique(results_df.Alpha.values)\n",
    "results_force_df = results_force_df[(results_force_df.resolution==resolution)&(results_force_df.alpha==alphas[6])].reset_index()\n",
    "plot_data = list()\n",
    "for x in results_force_df.index:\n",
    "\n",
    "    values = results_force_df.iloc[x].values\n",
    "    plot_data.append((values[2], 'Train',      values[4]))\n",
    "    plot_data.append((values[2], 'Test',       values[5]))\n",
    "\n",
    "plot_data = pd.DataFrame(plot_data, columns=['Fold', 'Set', 'C-Index'])\n",
    "plot_data['Force Fold'] = 'Clusterig on each fold train set'\n",
    "\n",
    "results_df = results_df[results_df.Resolution==resolution]\n",
    "results_df['Set'] = results_df['Set'].replace({'C-Index train':'Train', 'C-Index test':'Test', 'C-Index additional':'NYU Cohort'})\n",
    "plot_data_force = results_df.copy(deep=True)\n",
    "plot_data_force['Force Fold'] = 'Common clusters across folds'\n",
    "\n",
    "plot_data = pd.concat([plot_data_force, plot_data], axis=0)\n",
    "plot_data = plot_data[['Fold', 'Set', 'C-Index', 'Force Fold']]\n",
    "plot_data"
   ]
  },
  {
   "cell_type": "code",
   "execution_count": null,
   "metadata": {
    "collapsed": false,
    "pycharm": {
     "is_executing": true,
     "name": "#%%\n"
    }
   },
   "outputs": [],
   "source": [
    "\n",
    "figsize         = (15,10)\n",
    "fontsize_labels = 35\n",
    "fontsize_ticks  = 25\n",
    "fontsize_legend = 20\n",
    "l_markerscale   = 1\n",
    "l_box_w         = 2\n",
    "\n",
    "sns.set_theme(style='white')\n",
    "fig   = plt.figure(figsize=figsize)\n",
    "f, ax = plt.subplots(1, 1, sharey=True, sharex=True, figsize=figsize)\n",
    "\n",
    "sns.pointplot(data=plot_data, y='C-Index', x='Set', hue='Force Fold', linewidth=2.5, dodge=.4, join=False, capsize=.00, markers='o', ax=ax)\n",
    "\n",
    "for tick in ax.xaxis.get_major_ticks():\n",
    "    tick.label1.set_fontsize(fontsize_ticks)\n",
    "    tick.label1.set_fontweight('bold')\n",
    "for tick in ax.yaxis.get_major_ticks():\n",
    "    tick.label1.set_fontsize(fontsize_ticks)\n",
    "    tick.label1.set_fontweight('bold')\n",
    "for axis in ['top','bottom','left','right']:\n",
    "    ax.spines[axis].set_linewidth(4)\n",
    "ax.set_ylim([0.5, 0.85])\n",
    "\n",
    "ax.set_title('Cox Proportional Hazard\\nLUAD Overall Survival', fontsize=fontsize_labels*1.3, fontweight='bold')\n",
    "ax.set_xlabel('Set', fontsize=fontsize_labels, fontweight='bold')\n",
    "ax.set_ylabel('C-Index', fontsize=fontsize_labels, fontweight='bold')\n",
    "\n",
    "legend = ax.legend(loc='lower left', title=r'$\\bf{Clustering}$', markerscale=l_markerscale, prop={'size': fontsize_legend, 'weight':'bold'})\n",
    "legend.get_title().set_fontsize(fontsize_legend*1.3)\n",
    "legend.get_frame().set_linewidth(l_box_w)\n",
    "\n",
    "plt.show()"
   ]
  },
  {
   "cell_type": "code",
   "execution_count": null,
   "metadata": {
    "collapsed": false,
    "pycharm": {
     "name": "#%%\n"
    }
   },
   "outputs": [],
   "source": []
  }
 ],
 "metadata": {
  "kernelspec": {
   "display_name": "Python 3",
   "language": "python",
   "name": "python3"
  },
  "language_info": {
   "codemirror_mode": {
    "name": "ipython",
    "version": 2
   },
   "file_extension": ".py",
   "mimetype": "text/x-python",
   "name": "python",
   "nbconvert_exporter": "python",
   "pygments_lexer": "ipython2",
   "version": "2.7.6"
  }
 },
 "nbformat": 4,
 "nbformat_minor": 0
}

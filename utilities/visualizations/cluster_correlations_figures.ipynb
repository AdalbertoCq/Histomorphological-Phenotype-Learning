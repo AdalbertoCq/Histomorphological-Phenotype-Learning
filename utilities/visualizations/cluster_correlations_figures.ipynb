{
 "cells": [
  {
   "cell_type": "markdown",
   "source": [
    "# Imports"
   ],
   "metadata": {
    "collapsed": false
   }
  },
  {
   "cell_type": "code",
   "execution_count": 6,
   "outputs": [],
   "source": [
    "from matplotlib.colors import LinearSegmentedColormap\n",
    "from matplotlib.colors import TwoSlopeNorm\n",
    "from matplotlib.pyplot import rc_context\n",
    "import matplotlib.pyplot as plt\n",
    "import matplotlib\n",
    "import fastcluster\n",
    "import seaborn as sns\n",
    "import scanpy as sc\n",
    "import pandas as pd\n",
    "import numpy as np\n",
    "import math\n",
    "import glob\n",
    "import h5py\n",
    "import sys\n",
    "import os\n",
    "\n",
    "main_path = '/media/adalberto/Disk2/PhD_Workspace'\n",
    "sys.path.append(main_path)\n",
    "from models.clustering.logistic_regression_leiden_clusters import *\n",
    "from models.evaluation.folds import load_existing_split\n",
    "from models.clustering.correlations import *\n",
    "from models.clustering.data_processing import *\n",
    "from models.clustering.leiden_representations import include_tile_connections_frame\n",
    "from data_manipulation.utils import store_data\n"
   ],
   "metadata": {
    "collapsed": false,
    "pycharm": {
     "name": "#%%\n"
    },
    "trusted": false
   }
  },
  {
   "cell_type": "markdown",
   "source": [
    "# Methods"
   ],
   "metadata": {
    "collapsed": false
   }
  },
  {
   "cell_type": "code",
   "execution_count": 44,
   "outputs": [],
   "source": [
    "def create_histo_annotation_df(h5_hist_anno_path, additional_df, selected_anno=['acinar', 'lepidic', 'micropapillary', 'papillary', 'solid']):\n",
    "    with h5py.File(h5_hist_anno_path, 'r') as content:\n",
    "        slides   = [slide.decode(\"utf-8\").split('_')[0] for slide in content['combined_slides']]\n",
    "        tiles    = [tile.decode(\"utf-8\").split('.')[0] for tile in content['combined_tiles']]\n",
    "        histtype = [type_.decode(\"utf-8\") for type_ in content['combined_hist_subtype']]\n",
    "        histo_df = pd.DataFrame(slides, columns=['slides'])\n",
    "        histo_df['tiles'] = tiles\n",
    "        histo_df['histtype'] = histtype\n",
    "\n",
    "    additional_df['slides'] = additional_df['slides'].astype(str)\n",
    "    histo_complete_df = additional_df.merge(histo_df, how='inner', left_on=['slides','tiles'], right_on=['slides','tiles'])\n",
    "    histo_complete_df = histo_complete_df.loc[histo_complete_df['histtype'].isin(selected_anno)]\n",
    "\n",
    "    return histo_complete_df\n",
    "\n",
    "\n",
    "def get_col_colors(cox_os_clusters, cox_pfs_clusters, p_th):\n",
    "    colors        = None\n",
    "    colors_masked = None\n",
    "    if cox_os_clusters is not None:\n",
    "        # Column colors.\n",
    "        coef_df   = cox_os_clusters.sort_values(by=groupby)\n",
    "        cmap_PiYG = plt.cm.PiYG_r\n",
    "        norm      = TwoSlopeNorm(vmin=coef_df['coef'].min(), vcenter=0, vmax=coef_df['coef'].max())\n",
    "        column_os_colors              = pd.Series([cmap_PiYG(norm(coef)) for p, coef in zip(coef_df['p'], coef_df['coef'])], name='Cox Coefficient Overall Survival')\n",
    "        column_os_colors_masked       = pd.Series([cmap_PiYG(norm(coef)) if p <p_th else cmap_PiYG(norm(0))[:3] for p, coef in zip(coef_df['p'], coef_df['coef'])], name='Cox Coefficient Overall Survival')\n",
    "        column_os_colors_masked.index = coef_df[groupby].astype(str)\n",
    "        column_os_colors.index        = coef_df[groupby].astype(str)\n",
    "        colors        = column_os_colors\n",
    "        colors_masked = column_os_colors_masked\n",
    "\n",
    "        if cox_pfs_clusters is not None:\n",
    "            cox_pfs_clusters = cox_pfs_clusters.sort_values(by=groupby)\n",
    "            cmap_PiYG = plt.cm.PiYG_r\n",
    "            norm                     = TwoSlopeNorm(vmin=cox_pfs_clusters['coef'].astype(float).min(), vcenter=0, vmax=cox_pfs_clusters['coef'].astype(float).max())\n",
    "            column_pfs_colors        = pd.Series([cmap_PiYG(norm(coef)) for p, coef in zip(cox_pfs_clusters['p'], cox_pfs_clusters['coef'])], name='Cox Coefficient\\nRecurrence Free Survival')\n",
    "            column_pfs_colors_masked = pd.Series([cmap_PiYG(norm(coef)) if p <p_th else cmap_PiYG(norm(0))[:3] for p, coef in zip(cox_pfs_clusters['p'], cox_pfs_clusters['coef'])], name='Cox Coefficient\\nProgression Free Survival')\n",
    "            column_pfs_colors.index        = coef_df[groupby].astype(str)\n",
    "            column_pfs_colors_masked.index = coef_df[groupby].astype(str)\n",
    "\n",
    "            colors = pd.concat([column_os_colors, column_pfs_colors],axis=1)\n",
    "            colors_masked = pd.concat([column_os_colors_masked, column_pfs_colors_masked],axis=1)\n",
    "\n",
    "    return colors, colors_masked\n",
    "\n",
    "\n",
    "def plot_clustermap(all_data_rho, mask, x_label, y_label, directory, file_name, figsize, vcenter=0, annot=True, fmt='.2f', cox_os_clusters=None, cox_pfs_clusters=None,\n",
    "                    col_linkage=None, row_linkage=None, fontsize_ticks=28, fontsize_labels=30, fontsize_annot=20, dendrogram_ratio=0.2, row_colors_same=False,\n",
    "                    show=False, not_masked=False, p_th=0.05):\n",
    "\n",
    "    colors, colors_masked = get_col_colors(cox_os_clusters, cox_pfs_clusters, p_th)\n",
    "    with rc_context({'figure.figsize': figsize}):\n",
    "\n",
    "        for name, col_colors in [('', colors), ('_masked', colors_masked)]:\n",
    "            if 'masked' in name and not_masked:\n",
    "                continue\n",
    "            sns.set_theme(style='white')\n",
    "            vref = np.max(np.abs(all_data_rho.values))\n",
    "            if vcenter == 0:\n",
    "                norm = TwoSlopeNorm(vmin=-vref, vcenter=vcenter, vmax=vref)\n",
    "            else:\n",
    "                norm = TwoSlopeNorm(vmin=all_data_rho.values.min(), vcenter=vcenter, vmax=all_data_rho.values.max())\n",
    "\n",
    "            row_colors = None\n",
    "            if row_colors_same:\n",
    "                row_colors = col_colors\n",
    "\n",
    "            g = sns.clustermap(all_data_rho, vmin=-vref, vmax=vref, method='ward', metric='euclidean', annot=annot, mask=mask, col_colors=col_colors, row_colors=row_colors, col_linkage=col_linkage, row_linkage=row_linkage, fmt=fmt, norm=norm, cmap=sns.diverging_palette(250, 20, as_cmap=True), dendrogram_ratio=dendrogram_ratio, annot_kws={\"size\": fontsize_annot},  yticklabels=True,  xticklabels=True)\n",
    "\n",
    "            if col_colors is not None:\n",
    "                g.ax_col_colors.set_yticklabels(g.ax_col_colors.get_ymajorticklabels(), fontsize=fontsize_ticks)\n",
    "            if row_colors_same:\n",
    "                g.ax_row_colors.set_xticklabels(g.ax_row_colors.get_xmajorticklabels(), fontsize=fontsize_ticks)\n",
    "\n",
    "            g.ax_heatmap.set_ylabel('\\n%s' % y_label, fontsize=fontsize_labels)\n",
    "            g.ax_heatmap.set_xlabel('\\n%s' % x_label, fontsize=fontsize_labels)\n",
    "            g._figure.set_size_inches(figsize[0]*1.1, figsize[1]*1.1)\n",
    "            g.ax_heatmap.set_xticklabels(g.ax_heatmap.get_xmajorticklabels(), fontsize=fontsize_ticks)\n",
    "            g.ax_heatmap.set_yticklabels(g.ax_heatmap.get_ymajorticklabels(), fontsize=fontsize_ticks)\n",
    "            g.ax_cbar.tick_params(labelsize=fontsize_ticks)\n",
    "            if show:\n",
    "                plt.show()\n",
    "            else:\n",
    "                plt.savefig('%s/%s' % (directory, file_name.replace('.jpg', '%s.jpg' % name)))\n",
    "                plt.close(g._figure)\n",
    "\n",
    "            if col_colors is None:\n",
    "                break\n",
    "    return g\n",
    "\n",
    "def spatial_correlations_figure(data_sc, leiden_clusters, coef_os_df, coef_pfs_df, xlabel, ylabel, directory=None, file_name=None, linkage=None, p_th=0.05, figsize=(15,15), fontsize=14, show=False):\n",
    "    sns.set_theme(style='white')\n",
    "\n",
    "    colors, _ = get_col_colors(coef_os_df, coef_pfs_df, p_th=p_th)\n",
    "    data_sc = data_sc[leiden_clusters].copy(deep=True)\n",
    "    data_sc.index   = colors.index\n",
    "    data_sc.columns = colors.index\n",
    "    if linkage is None:\n",
    "        g = sns.clustermap(data_sc.T, row_colors=colors, col_colors=colors, cmap='rocket_r', method='ward', metric='correlation', figsize=figsize)\n",
    "    else:\n",
    "        g = sns.clustermap(data_sc.T, row_colors=colors, col_colors=colors, col_linkage=linkage, cmap='rocket_r', method='ward', metric='correlation', figsize=figsize)\n",
    "    g.ax_heatmap.set_ylabel(ylabel, fontsize=fontsize)\n",
    "    g.ax_heatmap.set_xlabel(xlabel, fontsize=fontsize)\n",
    "    if directory is not None and file_name is not None:\n",
    "        plt.savefig('%s/%s' % (directory, file_name))\n",
    "    if show:\n",
    "        plt.show()\n",
    "    elif directory is not None and file_name is not None:\n",
    "        plt.close(g._figure)\n",
    "\n",
    "    return g\n",
    "\n",
    "def plot_dendrogram(adata, groupby, directory=None, file_name=None, show=False):\n",
    "    fig = plt.figure(figsize=(15,5))\n",
    "    fig.suptitle('Leiden Cluster Dendrogram')\n",
    "    ax = fig.add_subplot(1, 1, 1)\n",
    "    ax = sc.pl.dendrogram(adata, groupby=groupby, ax=ax, show=show)\n",
    "    if directory is not None and file_name is not None:\n",
    "        plt.savefig(os.path.join(directory, file_name))\n",
    "        plt.close(fig)\n"
   ],
   "metadata": {
    "collapsed": false,
    "pycharm": {
     "name": "#%%\n"
    },
    "trusted": false
   }
  },
  {
   "cell_type": "markdown",
   "source": [
    "# Variables for run comparison"
   ],
   "metadata": {
    "collapsed": false,
    "pycharm": {
     "name": "#%% md\n"
    }
   }
  },
  {
   "cell_type": "code",
   "source": [
    "# Workspace path.\n",
    "main_path = '/media/adalberto/Disk2/PhD_Workspace'\n",
    "\n",
    "# Resolution and fold for the tile clustering and slide representations.\n",
    "resolution     = 2.0\n",
    "fold_number    = 0\n",
    "groupby        = 'leiden_%s' % resolution\n",
    "\n",
    "# Folder run.\n",
    "meta_folder     = 'luad_overall_survival_nn250_fold%s_NYU_v3' % fold_number\n",
    "meta_folder_pfs = 'luad_progression_free_survival_nn250_fold%s_NYU_v3_csNP' % fold_number\n",
    "matching_field   = 'samples'\n",
    "# meta_field       = 'luad'\n",
    "meta_field       = 'os_event_ind'\n",
    "\n",
    "##### HoverNet dataset annotations.\n",
    "cell_names = ['cell neoplastic', 'cell inflammatory', 'cell connective', 'cell dead']\n",
    "if 'luad' in meta_folder:\n",
    "    dataset = 'NYU_LUADall_5x'\n",
    "else:\n",
    "    dataset = 'TCGAFFPE_LUADLUSC_5x_10pc'\n",
    "magnification           = '20x'\n",
    "annotation_restriction = 1\n",
    "\n",
    "# Penalties for Cox regression and flag for usage.\n",
    "use_cox        = True  # Flag if you want to use the cox coefficients to cross check with correlations.\n",
    "alpha          = 1.0   # Alpha penalty for the folder to select on OS.\n",
    "alpha_2        = None  # Alpha penalty for the folder to select on PFS.\n",
    "\n",
    "# Pickle files.\n",
    "# folds_pickle  = '%s/utilities/files/LUADLUSC/lungsubtype_Institutions.pkl' % main_path\n",
    "folds_pickle = '%s/utilities/files/LUAD/overall_survival_TCGA_folds.pkl'  % main_path\n",
    "\n",
    "# Tile representation files.\n",
    "h5_complete_path   = '%s/results/BarlowTwins_3/TCGAFFPE_LUADLUSC_5x_60pc_250K/h224_w224_n3_zdim128_filtered/hdf5_TCGAFFPE_LUADLUSC_5x_60pc_he_complete_lungsubtype_survival_filtered.h5' % main_path\n",
    "## LUAD run.\n",
    "if 'luad' in meta_folder:\n",
    "    h5_additional_path = '%s/results/BarlowTwins_3/TCGAFFPE_LUADLUSC_5x_60pc_250K/h224_w224_n3_zdim128_filtered/NYU300LUAD_Survival_5x_60pc/h224_w224_n3_zdim128/hdf5_NYU300LUAD_Survival_5x_60pc_he_train_overall_progression_free_surival_filtered.h5' % main_path\n",
    "    h5_hist_anno_path  = '%s/datasets/NYUFFPE_Annotated_5x_60pc/he/patches_h224_w224/hdf5_NYUFFPE_Annotated_5x_60pc_he_combined.h5' % main_path\n",
    "## LUSC run.\n",
    "else:\n",
    "    h5_additional_path = None\n",
    "\n",
    "# Annotation files.\n",
    "hovernet_csv     = '%s/datasets/HoverNet/%s/%s/%s_hovernet_annotations_5x.csv' % (main_path, dataset, magnification, dataset)\n",
    "tcga_immune_csv  = '%s/utilities/files/TCGA/TCGA_immune_landscape.csv' % main_path\n",
    "\n",
    "# Folder handling to save correlation and figures.\n",
    "main_cluster_path = h5_complete_path.split('hdf5_')[0]\n",
    "main_cluster_path = os.path.join(main_cluster_path, meta_folder)\n",
    "adatas_path       = os.path.join(main_cluster_path, 'adatas')\n",
    "figure_path        = os.path.join(main_cluster_path, 'leiden_%s_fold%s' % (str(resolution).replace('.','p'),fold_number))\n",
    "interactions_path = os.path.join(figure_path, 'interactions')\n",
    "figure_path        = os.path.join(figure_path, 'figures')\n",
    "spatial_fig_path   = os.path.join(figure_path, 'spatial')\n",
    "if not os.path.isdir(spatial_fig_path):\n",
    "    os.makedirs(figure_path)\n",
    "    os.makedirs(interactions_path)\n",
    "    os.makedirs(spatial_fig_path)\n"
   ],
   "metadata": {
    "collapsed": false,
    "pycharm": {
     "name": "#%%\n"
    },
    "trusted": false
   },
   "execution_count": 46,
   "outputs": []
  },
  {
   "cell_type": "markdown",
   "source": [
    "### Cox Regression runs"
   ],
   "metadata": {
    "collapsed": false
   }
  },
  {
   "cell_type": "code",
   "execution_count": 47,
   "outputs": [],
   "source": [
    "# Read in the coefficients for the selected Cox runs.\n",
    "coef_os_df  = None\n",
    "coef_pfs_df = None\n",
    "if use_cox:\n",
    "    csv_cox = os.path.join(main_cluster_path, '%s_leiden_%s_alpha_%s_l1ratio_0p0_mintiles_100' % (meta_folder, resolution, str(alpha).replace('.','p')))\n",
    "    csv_cox = os.path.join(csv_cox, 'leiden_%s_stats_all_folds.csv' % (str(resolution).replace('.','p')))\n",
    "\n",
    "    # Read in regression coefficient file\n",
    "    cox_df  = pd.read_csv(csv_cox)\n",
    "    coef_os_df = cox_df[[groupby, 'coef', 'p']].copy(deep=True)\n",
    "\n",
    "    if 'luad_overall_survival' in csv_cox:\n",
    "\n",
    "        csv_cox = csv_cox.replace(meta_folder, meta_folder_pfs)\n",
    "        csv_cox = csv_cox.replace('alpha_%s_l1ratio_0p0' % (str(alpha).replace('.','p')), 'alpha_%s_l1ratio_0p0' % (str(alpha_2).replace('.','p')))\n",
    "\n",
    "        # Read in regression coefficient file\n",
    "        cox_df  = pd.read_csv(csv_cox)\n",
    "        coef_pfs_df = cox_df[[groupby, 'coef', 'p']].copy(deep=True)"
   ],
   "metadata": {
    "collapsed": false,
    "pycharm": {
     "name": "#%%\n"
    },
    "trusted": false
   }
  },
  {
   "cell_type": "markdown",
   "source": [
    "### Annotation files"
   ],
   "metadata": {
    "collapsed": false
   }
  },
  {
   "cell_type": "code",
   "execution_count": 48,
   "outputs": [],
   "source": [
    "# Immune landscape sample annotations.\n",
    "immune_landscape_df = pd.read_csv(tcga_immune_csv)\n",
    "\n",
    "# HoverNet Annotations.\n",
    "hovernet_df  = pd.read_csv(hovernet_csv)\n",
    "if '.' in hovernet_df.slides.astype(str).values[0]:\n",
    "    hovernet_df['slides'] = [slide.split('.')[0] for slide in hovernet_df.slides if '.' in slide ]\n"
   ],
   "metadata": {
    "collapsed": false,
    "pycharm": {
     "name": "#%%\n"
    },
    "trusted": false
   }
  },
  {
   "cell_type": "markdown",
   "source": [
    "### Representations: Slides and Tiles."
   ],
   "metadata": {
    "collapsed": false
   }
  },
  {
   "cell_type": "code",
   "execution_count": 57,
   "outputs": [],
   "source": [
    "''' Get representations for slide representation correlations. '''\n",
    "# Fold\n",
    "folds = load_existing_split(folds_pickle)\n",
    "fold = folds[fold_number]\n",
    "\n",
    "# Read cohort CSVs.\n",
    "dataframes, complete_df, leiden_clusters   = read_csvs(adatas_path, matching_field, groupby, fold_number, fold, h5_complete_path, h5_additional_path, additional_as_fold=False, force_fold=None)\n",
    "train_df, valid_df, test_df, additional_df = dataframes\n",
    "complete_df['tiles']   = complete_df['tiles'].apply(lambda x: x.split('.jpeg')[0])\n",
    "if additional_df is not None:\n",
    "    additional_df['tiles'] = additional_df['tiles'].apply(lambda x: x.split('.jpeg')[0])\n",
    "\n",
    "''' Get cluster interactions'''\n",
    "# Get cluster interactions. If not create file.\n",
    "file_name     = h5_complete_path.split('/hdf5_')[1].split('.h5')[0] + '_%s__fold%s_%s_cluster_interactions' % (groupby.replace('.', 'p'), fold_number, meta_folder)\n",
    "file_path     = os.path.join(interactions_path, file_name + '.csv')\n",
    "if os.path.isfile(file_path):\n",
    "    frame_conn = pd.read_csv(file_path)\n",
    "else:\n",
    "    frame_conn = include_tile_connections_frame(frame=complete_df, groupby=groupby)\n",
    "    frame_conn.to_csv(file_path, index=False)\n",
    "\n",
    "file_name_add = h5_additional_path.split('/hdf5_')[1].split('.h5')[0] + '_%s__fold%s_%s_cluster_interactions' % (groupby.replace('.', 'p'), fold_number, meta_folder)\n",
    "file_path_add = os.path.join(interactions_path, file_name_add + '.csv')\n",
    "if h5_additional_path is not None:\n",
    "    if os.path.isfile(file_path_add):\n",
    "        frame_conn_add = pd.read_csv(file_path_add)\n",
    "    else:\n",
    "        frame_conn_add = include_tile_connections_frame(frame=additional_df, groupby=groupby)\n",
    "        frame_conn_add.to_csv(file_path_add, index=False)\n",
    "\n",
    "# Cross reference HoverNet and Cluster annotations.\n",
    "if 'NYU' in hovernet_csv:\n",
    "    annotated_df           = additional_df.merge(hovernet_df, how='inner', left_on=['slides', 'tiles'], right_on=['slides', 'tiles'])\n",
    "    cluster_anno_df        = annotated_df[annotated_df['annotated_20x_tile_count']>=annotation_restriction]\n",
    "else:\n",
    "    annotated_df           = complete_df.merge(hovernet_df, how='inner', left_on=['slides', 'tiles'], right_on=['slides', 'tiles'])\n",
    "    cluster_anno_df        = annotated_df[annotated_df['annotated_20x_tile_count']>=annotation_restriction]\n",
    "\n",
    "''' Get representations for slide representation correlations. '''\n",
    "frames = build_cohort_representations(meta_folder, meta_field, matching_field, groupby, fold_number, folds_pickle, h5_complete_path, h5_additional_path, 'clr', 100)\n",
    "complete_df, additional_complete_df, frame_clusters, frame_samples, features = frames\n",
    "complete_df.columns            = complete_df.columns.astype(str)\n",
    "if additional_complete_df is not None: additional_complete_df.columns = additional_complete_df.columns.astype(str)\n",
    "\n",
    "''' Read clustering file '''\n",
    "adata_train, h5ad_path = read_h5ad_reference(h5_complete_path, meta_folder, groupby, fold_number)\n",
    "\n",
    "''' Prepare manual annotations for histological subtypes.'''\n",
    "if additional_df is not None:\n",
    "    histo_complete_df  = create_histo_annotation_df(h5_hist_anno_path, additional_df)\n"
   ],
   "metadata": {
    "collapsed": false,
    "pycharm": {
     "name": "#%%\n"
    },
    "trusted": false
   }
  },
  {
   "cell_type": "markdown",
   "source": [
    "### Correlations"
   ],
   "metadata": {
    "collapsed": false
   }
  },
  {
   "cell_type": "code",
   "execution_count": 62,
   "outputs": [],
   "source": [
    "pval_th       = 0.01\n",
    "\n",
    "correlations_dict = dict()\n",
    "\n",
    "''' Leiden Cluster Dendrogram'''\n",
    "file_name = h5_complete_path.split('/hdf5_')[1].split('.h5')[0] + '_%s__fold%s_%s_leiden_dendrogram' % (groupby.replace('.', 'p'), fold_number, meta_folder)\n",
    "sc.tl.dendrogram(adata_train, groupby=groupby, cor_method='pearson', linkage_method='average', optimal_ordering=True)\n",
    "correlations_dict[groupby] = dict()\n",
    "correlations_dict[groupby]['file_name'] = file_name\n",
    "correlations_dict[groupby]['linkage']   = adata_train.uns['dendrogram_leiden_2.0']['linkage']\n",
    "\n",
    "''' HoverNet Annotations '''\n",
    "if 'NYU' in hovernet_csv:\n",
    "    file_name = h5_additional_path.split('/hdf5_')[1].split('.h5')[0] + '_%s__fold%s_%s_hovernet' % (groupby.replace('.', 'p'), fold_number, meta_folder)\n",
    "else:\n",
    "    file_name = h5_complete_path.split('/hdf5_')[1].split('.h5')[0] + '_%s__fold%s_%s_hovernet' % (groupby.replace('.', 'p'), fold_number, meta_folder)\n",
    "critical_coef, critical_ref, p_values = ks_test_cluster_purities(cluster_anno_df=annotated_df, fields=cell_names, groupby=groupby, fold_number=fold_number, directory=main_cluster_path,\n",
    "                                                                 file_name=file_name, p_th=0.01, critical_values_flag=True)\n",
    "mask  = (np.abs(critical_coef)<=critical_ref)\n",
    "correlations_dict['hovernet'] = dict()\n",
    "correlations_dict['hovernet']['file_name'] = file_name\n",
    "correlations_dict['hovernet']['data']      = critical_coef, critical_ref, p_values, mask\n",
    "\n",
    "''' Immune Landscape '''\n",
    "file_name = h5_complete_path.split('/hdf5_')[1].split('.h5')[0] + '_%s__fold%s_%s_immunelandscape' % (groupby.replace('.', 'p'), fold_number, meta_folder)\n",
    "all_data_rho, all_data_pval, mask, _ = correlate_clusters_annotation(slide_rep_df=complete_df, annotations_df=immune_landscape_df, purity_field=meta_field,\n",
    "                                                                     matching_field='samples', corr_method='spearman', pval_th=pval_th, field_th=0.05*len(features),\n",
    "                                                                     groupby=groupby, fold_number=fold_number, directory=main_cluster_path, file_name=file_name)\n",
    "correlations_dict['immunelandscape'] = dict()\n",
    "correlations_dict['immunelandscape']['file_name'] = file_name\n",
    "correlations_dict['immunelandscape']['data']      = all_data_rho, all_data_pval, mask\n",
    "\n",
    "''' Tile Histological Subtype Annotation '''\n",
    "if additional_complete_df is not None:\n",
    "    file_name = h5_additional_path.split('/hdf5_')[1].split('.h5')[0] + '_%s__fold%s_%s_histsubtypes_anno' % (groupby.replace('.', 'p'), fold_number, meta_folder)\n",
    "    p_values, strength, mask = cluster_purity_hypergeom(histo_complete_df, frame_clusters, groupby, 'histtype', pval_th=pval_th, pvalue_as_strengh=False)\n",
    "    strength.index = strength.index.astype(str)\n",
    "    correlations_dict['tile_histsubtypes'] = dict()\n",
    "    correlations_dict['tile_histsubtypes']['file_name'] = file_name\n",
    "    correlations_dict['tile_histsubtypes']['data']      = p_values, strength, mask\n",
    "\n",
    "''' Spatial Correlations '''\n",
    "file_name     = h5_complete_path.split('/hdf5_')[1].split('.h5')[0] + '_%s__fold%s_%s_spatialcorr_icluster' % (groupby.replace('.', 'p'), fold_number, meta_folder)\n",
    "spatial_corr     = spatial_correlations_all(frame=frame_conn, leiden_clusters=leiden_clusters, groupby=groupby, normalize='cluster', include_background=False)\n",
    "if h5_additional_path is not None:\n",
    "    spatial_corr_add = spatial_correlations_all(frame=frame_conn_add, leiden_clusters=leiden_clusters, groupby=groupby, normalize='cluster', include_background=False)\n",
    "\n",
    "correlations_dict['spatial_corr_cluster'] = dict()\n",
    "correlations_dict['spatial_corr_cluster']['file_name'] = file_name\n",
    "correlations_dict['spatial_corr_cluster']['data']      = spatial_corr\n",
    "\n",
    "file_name     = h5_complete_path.split('/hdf5_')[1].split('.h5')[0] + '_%s__fold%s_%s_spatialcorr_iall' % (groupby.replace('.', 'p'), fold_number, meta_folder)\n",
    "spatial_corr     = spatial_correlations_all(frame=frame_conn, leiden_clusters=leiden_clusters, groupby=groupby, normalize='all', include_background=False)\n",
    "if h5_additional_path is not None:\n",
    "    spatial_corr_add = spatial_correlations_all(frame=frame_conn_add, leiden_clusters=leiden_clusters, groupby=groupby, normalize='all', include_background=False)\n",
    "\n",
    "correlations_dict['spatial_corr_all'] = dict()\n",
    "correlations_dict['spatial_corr_all']['file_name'] = file_name\n",
    "correlations_dict['spatial_corr_all']['data']      = spatial_corr\n",
    "\n",
    "''' WSI Rep. Cluster Correlations '''\n",
    "file_name     = h5_complete_path.split('/hdf5_')[1].split('.h5')[0] + '_%s__fold%s_%s_contentcorr' % (groupby.replace('.', 'p'), fold_number, meta_folder)\n",
    "all_data_rho, all_data_pval, mask = correlate_clusters_occurrance_annotation(complete_df, meta_field, groupby, fold_number, main_cluster_path, file_name,\n",
    "                                                                             corr_method='spearman', pval_th=pval_th)\n",
    "\n",
    "correlations_dict['content_corr'] = dict()\n",
    "correlations_dict['content_corr']['file_name'] = file_name\n",
    "correlations_dict['content_corr']['data']      = all_data_rho, all_data_pval, mask"
   ],
   "metadata": {
    "collapsed": false,
    "pycharm": {
     "name": "#%%\n"
    },
    "trusted": false
   }
  },
  {
   "cell_type": "markdown",
   "source": [
    "### Figures\n",
    "#### Correlations"
   ],
   "metadata": {
    "collapsed": false
   }
  },
  {
   "cell_type": "code",
   "execution_count": 63,
   "outputs": [],
   "source": [
    "''' Leiden Dendrogram '''\n",
    "file_name = correlations_dict[groupby]['file_name']\n",
    "plot_dendrogram(adata_train, groupby, directory=figure_path, file_name=file_name+'.png', show=False)\n",
    "\n",
    "''' Cluster Purity '''\n",
    "file_name = correlations_dict['hovernet']['file_name']\n",
    "critical_coef, critical_ref, p_values, mask = correlations_dict['hovernet']['data']\n",
    "g = plot_clustermap(all_data_rho=np.round(critical_coef,2), mask=mask.values, x_label='Cluster', y_label='Cell Annotations', cox_os_clusters=coef_os_df, cox_pfs_clusters=coef_pfs_df,\n",
    "                directory=figure_path, file_name=file_name+'.jpg', figsize=(60,30))\n",
    "correlations_dict['hovernet']['linkage'] = g.dendrogram_col.linkage\n",
    "\n",
    "''' Immune Landscape '''\n",
    "file_name = correlations_dict['immunelandscape']['file_name']\n",
    "all_data_rho, all_data_pval, mask = correlations_dict['immunelandscape']['data']\n",
    "g = plot_clustermap(all_data_rho=all_data_rho, mask=mask.values, x_label='Cluster', y_label='Immune feature', cox_os_clusters=coef_os_df, cox_pfs_clusters=coef_pfs_df,\n",
    "                    directory=figure_path, file_name=file_name+'.jpg', figsize=(65,35))\n",
    "correlations_dict['immunelandscape']['linkage'] = g.dendrogram_col.linkage\n",
    "\n",
    "'''Tile Histological Subtype Annotations'''\n",
    "if additional_complete_df is not None:\n",
    "    file_name = correlations_dict['tile_histsubtypes']['file_name']\n",
    "    p_values, strength, mask = correlations_dict['tile_histsubtypes']['data']\n",
    "    g = plot_clustermap(all_data_rho=strength.transpose(), mask=mask.values.transpose(), vcenter=1, x_label='Cluster', y_label='Histological subtype', cox_os_clusters=coef_os_df, cox_pfs_clusters=coef_pfs_df,\n",
    "                        fmt='.1f', directory=figure_path, file_name=file_name+'.jpg', figsize=(60,30))\n"
   ],
   "metadata": {
    "collapsed": false,
    "pycharm": {
     "name": "#%%\n"
    },
    "trusted": false
   }
  },
  {
   "cell_type": "code",
   "execution_count": 64,
   "outputs": [],
   "source": [
    "'''Cross Dendrogram - Immune/HoverNet & HoverNet/Immune '''\n",
    "file_name = correlations_dict['hovernet']['file_name'] + '_cross_immune'\n",
    "critical_coef, critical_ref, p_values, mask = correlations_dict['hovernet']['data']\n",
    "g = plot_clustermap(all_data_rho=np.round(critical_coef,2), mask=mask.values, x_label='Cluster', y_label='Cell Annotations', cox_os_clusters=coef_os_df, cox_pfs_clusters=coef_pfs_df,\n",
    "                    col_linkage=correlations_dict['immunelandscape']['linkage'], directory=figure_path, file_name=file_name+'.jpg', figsize=(60,30))\n",
    "\n",
    "file_name = correlations_dict['immunelandscape']['file_name'] + '_cross_hovernet'\n",
    "all_data_rho, all_data_pval, mask = correlations_dict['immunelandscape']['data']\n",
    "g = plot_clustermap(all_data_rho=all_data_rho, mask=mask.values, x_label='Cluster', y_label='Immune feature', cox_os_clusters=coef_os_df, cox_pfs_clusters=coef_pfs_df,\n",
    "                    col_linkage=correlations_dict['hovernet']['linkage'], directory=figure_path, file_name=file_name+'.jpg', figsize=(65,35))\n",
    "\n",
    "'''Cross Dendrogram - Immune/Leiden & HoverNet/Leiden '''\n",
    "file_name = correlations_dict['hovernet']['file_name'] + '_cross_leiden'\n",
    "critical_coef, critical_ref, p_values, mask = correlations_dict['hovernet']['data']\n",
    "g = plot_clustermap(all_data_rho=np.round(critical_coef,2), mask=mask.values, x_label='Cluster', y_label='Cell Annotations', cox_os_clusters=coef_os_df, cox_pfs_clusters=coef_pfs_df,\n",
    "                    col_linkage=correlations_dict[groupby]['linkage'], directory=figure_path, file_name=file_name+'.jpg', figsize=(60,30))\n",
    "\n",
    "file_name = correlations_dict['immunelandscape']['file_name'] + '_cross_leiden'\n",
    "all_data_rho, all_data_pval, mask = correlations_dict['immunelandscape']['data']\n",
    "g = plot_clustermap(all_data_rho=all_data_rho, mask=mask.values, x_label='Cluster', y_label='Immune feature', cox_os_clusters=coef_os_df, cox_pfs_clusters=coef_pfs_df,\n",
    "                    col_linkage=correlations_dict[groupby]['linkage'], directory=figure_path, file_name=file_name+'.jpg', figsize=(65,35))\n",
    "\n",
    "'''Cross Dendrogram - Tile Annotation/Immune & Tile Annotation/HoverNet/Leiden '''\n",
    "if additional_complete_df is not None:\n",
    "    file_name = correlations_dict['tile_histsubtypes']['file_name'] + '_cross_immune'\n",
    "    p_values, strength, mask = correlations_dict['tile_histsubtypes']['data']\n",
    "    g = plot_clustermap(all_data_rho=strength.transpose(), mask=mask.values.transpose(), vcenter=1, x_label='Cluster', y_label='Histological subtype', cox_os_clusters=coef_os_df, cox_pfs_clusters=coef_pfs_df, fmt='.1f', col_linkage=correlations_dict['immunelandscape']['linkage'], directory=figure_path, file_name=file_name+'.jpg', figsize=(60,30))\n",
    "\n",
    "    file_name = correlations_dict['tile_histsubtypes']['file_name'] + '_cross_leiden'\n",
    "    g = plot_clustermap(all_data_rho=strength.transpose(), mask=mask.values.transpose(), vcenter=1, x_label='Cluster', y_label='Histological subtype', cox_os_clusters=coef_os_df, cox_pfs_clusters=coef_pfs_df, fmt='.1f', col_linkage=correlations_dict[groupby]['linkage'], directory=figure_path, file_name=file_name+'.jpg', figsize=(60,30))\n"
   ],
   "metadata": {
    "collapsed": false,
    "pycharm": {
     "name": "#%%\n"
    },
    "trusted": false
   }
  },
  {
   "cell_type": "markdown",
   "source": [
    "#### Spatial Correlation Figures"
   ],
   "metadata": {
    "collapsed": false
   }
  },
  {
   "cell_type": "code",
   "execution_count": 65,
   "outputs": [],
   "source": [
    "''' Spatial Cluster Correlations '''\n",
    "file_name = correlations_dict['spatial_corr_all']['file_name']\n",
    "data_sc   = correlations_dict['spatial_corr_all']['data'][leiden_clusters].copy(deep=True)\n",
    "xlabel    = 'Cluster'\n",
    "ylabel    = 'Cluster interaction with X cluster'\n",
    "g = spatial_correlations_figure(data_sc, leiden_clusters, coef_os_df, coef_pfs_df, xlabel=xlabel, ylabel=ylabel, directory=spatial_fig_path, file_name=file_name+'.jpg', p_th=0.05, figsize=(15,15), fontsize=14)\n",
    "correlations_dict['spatial_corr_all']['linkage'] = g.dendrogram_col.linkage\n",
    "\n",
    "file_name = correlations_dict['spatial_corr_cluster']['file_name']\n",
    "data_sc   = correlations_dict['spatial_corr_cluster']['data'][leiden_clusters].copy(deep=True)\n",
    "xlabel    = 'Cluster \\n(interaction norm per cluster)'\n",
    "ylabel    = 'Cluster interaction with X cluster'\n",
    "g = spatial_correlations_figure(data_sc, leiden_clusters, coef_os_df, coef_pfs_df, xlabel=xlabel, ylabel=ylabel, directory=spatial_fig_path, file_name=file_name+'.jpg', p_th=0.05, figsize=(15,15), fontsize=14)\n",
    "correlations_dict['spatial_corr_cluster']['linkage'] = g.dendrogram_col.linkage\n",
    "\n",
    "''' WSI Rep. Cluster Content Correlations '''\n",
    "file_name    = correlations_dict['content_corr']['file_name']\n",
    "all_data_rho, all_data_pval, mask = correlations_dict['content_corr']['data']\n",
    "g = plot_clustermap(all_data_rho=all_data_rho, mask=mask.values, x_label='Cluster', y_label='Cluster', cox_os_clusters=coef_os_df, cox_pfs_clusters=coef_pfs_df, row_colors_same=True, annot=False, directory=spatial_fig_path, file_name=file_name+'.jpg', figsize=(30,30))\n",
    "correlations_dict['content_corr']['linkage'] = g.dendrogram_col.linkage"
   ],
   "metadata": {
    "collapsed": false,
    "pycharm": {
     "name": "#%%\n"
    },
    "trusted": false
   }
  },
  {
   "cell_type": "code",
   "execution_count": 66,
   "outputs": [],
   "source": [
    "''' Cross Dendrogram - Spatial Cluster Correlations/Immune Landscape '''\n",
    "linkage   = correlations_dict['immunelandscape']['linkage']\n",
    "file_name = correlations_dict['spatial_corr_all']['file_name'] + '_cross_immune'\n",
    "data_sc   = correlations_dict['spatial_corr_all']['data'][leiden_clusters].copy(deep=True)\n",
    "xlabel    = 'Cluster'\n",
    "ylabel    = 'Cluster interaction with X cluster'\n",
    "spatial_correlations_figure(data_sc, leiden_clusters, coef_os_df, coef_pfs_df, linkage=linkage, xlabel=xlabel, ylabel=ylabel, directory=spatial_fig_path, file_name=file_name+'.jpg', p_th=0.05, figsize=(15,15), fontsize=14)\n",
    "\n",
    "''' Cross Dendrogram - Spatial Cluster Correlations/Leiden Dendrogram '''\n",
    "linkage   = correlations_dict[groupby]['linkage']\n",
    "file_name = correlations_dict['spatial_corr_all']['file_name'] + '_cross_leiden'\n",
    "data_sc   = correlations_dict['spatial_corr_all']['data'][leiden_clusters].copy(deep=True)\n",
    "xlabel    = 'Cluster'\n",
    "ylabel    = 'Cluster interaction with X cluster'\n",
    "spatial_correlations_figure(data_sc, leiden_clusters, coef_os_df, coef_pfs_df, linkage=linkage, xlabel=xlabel, ylabel=ylabel, directory=spatial_fig_path, file_name=file_name+'.jpg', p_th=0.05, figsize=(15,15), fontsize=14)\n",
    "\n",
    "''' Cross Dendrogram - WSI Rep. Cluster Content /Immune Landscape '''\n",
    "linkage      = correlations_dict['immunelandscape']['linkage']\n",
    "file_name    = correlations_dict['content_corr']['file_name'] + '_cross_immune'\n",
    "all_data_rho, all_data_pval, mask = correlations_dict['content_corr']['data']\n",
    "g = plot_clustermap(all_data_rho=all_data_rho, mask=mask, x_label='Cluster', y_label='Cluster', cox_os_clusters=coef_os_df, cox_pfs_clusters=coef_pfs_df, row_colors_same=True, annot=False, col_linkage=linkage, directory=spatial_fig_path, file_name=file_name+'.jpg', figsize=(30,30))\n",
    "\n",
    "''' Cross Dendrogram - WSI Rep. Cluster Content /Leiden Dendrogram '''\n",
    "linkage      = correlations_dict[groupby]['linkage']\n",
    "file_name    = correlations_dict['content_corr']['file_name'] + '_cross_leiden'\n",
    "all_data_rho, all_data_pval, mask = correlations_dict['content_corr']['data']\n",
    "g = plot_clustermap(all_data_rho=all_data_rho, mask=mask, x_label='Cluster', y_label='Cluster', cox_os_clusters=coef_os_df, cox_pfs_clusters=coef_pfs_df, row_colors_same=True, annot=False, col_linkage=linkage, directory=spatial_fig_path, file_name=file_name+'.jpg', figsize=(30,30))\n",
    "\n",
    "''' Cross Dendrogram - WSI Rep. Cluster Content /Spatial All '''\n",
    "linkage      = correlations_dict['spatial_corr_all']['linkage']\n",
    "file_name    = correlations_dict['content_corr']['file_name'] + '_cross_spatialall'\n",
    "all_data_rho, all_data_pval, mask = correlations_dict['content_corr']['data']\n",
    "g = plot_clustermap(all_data_rho=all_data_rho, mask=mask, x_label='Cluster', y_label='Cluster', cox_os_clusters=coef_os_df, cox_pfs_clusters=coef_pfs_df, row_colors_same=True, annot=False, col_linkage=linkage, directory=spatial_fig_path, file_name=file_name+'.jpg', figsize=(30,30))"
   ],
   "metadata": {
    "collapsed": false,
    "pycharm": {
     "name": "#%%\n"
    },
    "trusted": false
   }
  },
  {
   "cell_type": "code",
   "execution_count": null,
   "outputs": [],
   "source": [],
   "metadata": {
    "collapsed": false,
    "pycharm": {
     "name": "#%%\n"
    },
    "trusted": false
   }
  }
 ],
 "metadata": {
  "kernelspec": {
   "name": "python3",
   "language": "python",
   "display_name": "Python 3"
  },
  "language_info": {
   "codemirror_mode": {
    "name": "ipython",
    "version": 2
   },
   "file_extension": ".py",
   "mimetype": "text/x-python",
   "name": "python",
   "nbconvert_exporter": "python",
   "pygments_lexer": "ipython2",
   "version": "2.7.6"
  }
 },
 "nbformat": 4,
 "nbformat_minor": 0
}
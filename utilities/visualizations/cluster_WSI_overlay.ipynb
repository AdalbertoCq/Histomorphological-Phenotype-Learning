{
 "cells": [
  {
   "attachments": {},
   "cell_type": "markdown",
   "metadata": {},
   "source": [
    "# Imports"
   ]
  },
  {
   "cell_type": "code",
   "execution_count": null,
   "metadata": {},
   "outputs": [],
   "source": [
    "from mpl_toolkits.axes_grid1 import ImageGrid\n",
    "from matplotlib.colors       import LinearSegmentedColormap\n",
    "from matplotlib.colors       import TwoSlopeNorm\n",
    "from matplotlib.lines        import Line2D\n",
    "from skimage.transform       import resize\n",
    "from plottify                import autosize\n",
    "from sklearn                 import metrics\n",
    "from PIL                     import Image\n",
    "from adjustText              import adjust_text\n",
    "from scipy.cluster           import hierarchy\n",
    "import statsmodels.api   as sm\n",
    "import matplotlib.pyplot as plt\n",
    "import numpy             as np\n",
    "import seaborn           as sns\n",
    "import pandas            as pd\n",
    "import scanpy            as sc\n",
    "import matplotlib\n",
    "import anndata\n",
    "import random\n",
    "import fastcluster\n",
    "import copy\n",
    "import umap\n",
    "import h5py\n",
    "import sys\n",
    "import os\n",
    "\n",
    "sys.path.append('/media/adalberto/Disk2/PhD_Workspace')\n",
    "from models.visualization.clusters import *\n",
    "from models.evaluation.folds import load_existing_split\n",
    "from models.clustering.data_processing import *\n",
    "from data_manipulation.data import Data"
   ]
  },
  {
   "attachments": {},
   "cell_type": "markdown",
   "metadata": {},
   "source": [
    "# Variables"
   ]
  },
  {
   "cell_type": "code",
   "execution_count": null,
   "metadata": {},
   "outputs": [],
   "source": [
    "# Workspace path.\n",
    "main_path = '/media/adalberto/Disk2/PhD_Workspace'\n",
    "\n",
    "# Image dataset variables.\n",
    "dataset            = 'TCGAFFPE_LUADLUSC_5x_60pc'\n",
    "additional_dataset = 'NYUFFPE_survival_5x_60pc'\n",
    "\n",
    "\n",
    "############# Lungsubtype\n",
    "# meta_field     = 'luad'\n",
    "# matching_field = 'slides'\n",
    "# resolution     = 2.0\n",
    "# fold_number    = 4\n",
    "# groupby        = 'leiden_%s' % resolution\n",
    "# meta_folder    = 'lungsubtype_nn250'\n",
    "# folds_pickle   = '/media/adalberto/Disk2/PhD_Workspace/utilities/files/LUADLUSC/lungsubtype_Institutions.pkl'\n",
    "\n",
    "############# LUAD Overall and Recurrence Free Survival\n",
    "meta_field         = 'luad'\n",
    "matching_field     = 'samples'\n",
    "resolution         = 2.0\n",
    "fold_number        = 0\n",
    "groupby            = 'leiden_%s' % resolution\n",
    "meta_folder        = 'luad_overall_survival_nn250_fold%s_NYU_v3' % fold_number\n",
    "folds_pickle       = '%s/utilities/files/LUAD/overall_survival_TCGA_folds.pkl'  % main_path\n",
    "additional_as_fold = False\n",
    "\n",
    "# Institutions.\n",
    "inst_csv   = '/media/adalberto/Disk2/PhD_Workspace/utilities/files/TCGA/TCGA_Institutions.csv'\n",
    "inst_frame = pd.read_csv(inst_csv)\n",
    "inst_frame = inst_frame[inst_frame['Study Name'].isin(['Lung adenocarcinoma', 'Lung squamous cell carcinoma'])]\n",
    "\n",
    "# Representations.\n",
    "h5_complete_path = '%s/results/BarlowTwins_3/TCGAFFPE_LUADLUSC_5x_60pc_250K/h224_w224_n3_zdim128_filtered/hdf5_TCGAFFPE_LUADLUSC_5x_60pc_he_complete_lungsubtype_survival_filtered.h5' % main_path\n",
    "h5_additional_path = '%s/results/BarlowTwins_3/TCGAFFPE_LUADLUSC_5x_60pc_250K/h224_w224_n3_zdim128_filtered/NYU300LUAD_Survival_5x_60pc/h224_w224_n3_zdim128/hdf5_NYU300LUAD_Survival_5x_60pc_he_train_overall_progression_free_surival_filtered.h5' % main_path\n",
    "# h5_additional_path = '%s/results/BarlowTwins_3/TCGAFFPE_LUADLUSC_5x_60pc_250K/h224_w224_n3_zdim128_filtered/NYUFFPE_LUADLUSC_5x_60pc/h224_w224_n3_zdim128/hdf5_NYUFFPE_LUADLUSC_5x_60pc_he_combined_filtered.h5' % main_path\n",
    "\n",
    "# File name and directories.\n",
    "file_name = h5_complete_path.split('/hdf5_')[1].split('.h5')[0] + '_%s__fold%s' % (groupby.replace('.', 'p'), fold_number)\n",
    "if h5_additional_path is not None: file_additional = h5_additional_path.split('/hdf5_')[1].split('.h5')[0] + '_%s__fold%s' % (groupby.replace('.', 'p'), fold_number)\n",
    "\n",
    "# Mapping for links in TCGA.\n",
    "manifest_csv = '%s/utilities/files/LUADLUSC/gdc_manifest.txt' % main_path\n",
    "\n",
    "# Slide rep and minimum tiles.\n",
    "min_ti1les       = 100\n",
    "type_composition = 'percent'\n",
    "\n",
    "# Setup folder.\n",
    "main_cluster_path = h5_complete_path.split('hdf5_')[0]\n",
    "main_cluster_path = os.path.join(main_cluster_path, meta_folder)\n",
    "adatas_path       = os.path.join(main_cluster_path, 'adatas')\n",
    "figures_path      = os.path.join(main_cluster_path, 'figures')\n",
    "if not os.path.isdir(figures_path):\n",
    "    os.makedirs(figures_path)"
   ]
  },
  {
   "attachments": {},
   "cell_type": "markdown",
   "metadata": {},
   "source": [
    "# Annotations"
   ]
  },
  {
   "cell_type": "code",
   "execution_count": null,
   "metadata": {},
   "outputs": [],
   "source": [
    "csv_annotations_path = '%s/utilities/files/LUAD/LUAD_survival_John_annotations.csv' % main_path\n",
    "annotations          = pd.read_csv(csv_annotations_path)\n",
    "annotations          = annotations.set_index('HPC')\n",
    "annotations          = annotations.replace({'other predominant tissue':'no epithelium', 'very sparse':'Very Sparse', 'severe':'Severe', 'moderate':'Moderate', 'mild':'Mild'})\n",
    "annotations          = annotations.replace({'more stroma':'More Stroma', 'more epithelium':'More Epithelium', 'no epithelium':'No Epithelium', 'roughly equal':'Roughly Equal'})\n",
    "\n",
    "annotations          = annotations.replace({'malignant epithelium':'Malignant Epithelium', 'elastosis or collagenosis':'Elastosis/Collagenosis',\n",
    "       'near-normal lung':'Near-normal Lung', 'reactive lung changes':'Reactive Lung Changes', 'necrosis':'Necrosis',\n",
    "       'other connective tissue':'Connective Tissue', 'vessels':'Vessels', 'airway':'Airway', 'cartilage':'Cartilage'})\n",
    "\n",
    "annotations.head(5)\n"
   ]
  },
  {
   "attachments": {},
   "cell_type": "markdown",
   "metadata": {},
   "source": [
    "# Images"
   ]
  },
  {
   "cell_type": "code",
   "execution_count": null,
   "metadata": {},
   "outputs": [],
   "source": [
    "# Dataset images.\n",
    "data = Data(dataset=dataset, marker='he', patch_h=224, patch_w=224, n_channels=3, batch_size=64, project_path=main_path, load=True)\n",
    "data_dicts = dict()\n",
    "data_dicts['train'] = data.training.images\n",
    "data_dicts['valid'] = data.validation.images\n",
    "data_dicts['test']  = data.test.images\n"
   ]
  },
  {
   "attachments": {},
   "cell_type": "markdown",
   "metadata": {},
   "source": [
    "# Retrieve WSI vector representations"
   ]
  },
  {
   "cell_type": "code",
   "execution_count": null,
   "metadata": {},
   "outputs": [],
   "source": [
    "# Given a label of 'meta_field' select WSI with a large ammount of HPC.\n",
    "value_cluster_ids = dict()\n",
    "value_cluster_ids[0] = []\n",
    "value_cluster_ids[1] = [1]\n",
    "only_id = True\n",
    "\n",
    "# Read frames.\n",
    "_, frame_complete, leiden_clusters = read_csvs(adatas_path, matching_field, groupby, fold_number, [[],[],[]], h5_complete_path, h5_additional_path, additional_as_fold, force_fold=None)\n",
    "colors = sns.color_palette('tab20', len(leiden_clusters))\n",
    "\n",
    "# Read GDC Manifest\n",
    "gdc_frame = pd.read_csv(manifest_csv, delimiter='\\t')\n",
    "gdc_frame['filename'] = gdc_frame['filename'].apply(lambda p: p.split('.')[0])\n",
    "\n",
    "# Get sample representations\n",
    "slide_rep_df = prepare_set_representation(frame_complete, matching_field, meta_field, groupby, leiden_clusters, type_=type_composition, min_tiles=min_ti1les)"
   ]
  },
  {
   "attachments": {},
   "cell_type": "markdown",
   "metadata": {},
   "source": [
    "# Select WSI to visualize"
   ]
  },
  {
   "cell_type": "code",
   "execution_count": null,
   "metadata": {},
   "outputs": [],
   "source": [
    "# Number of WSI to retrieve per HPC\n",
    "n_wsi_samples = 3\n",
    "\n",
    "dropped_slides = list()\n",
    "# Save WSI with cluster overlay.\n",
    "for value in np.unique(slide_rep_df[meta_field].values):\n",
    "    print('Meta Field %s Value: %s' % (meta_field, value))\n",
    "    all_value_slides = slide_rep_df[slide_rep_df[meta_field]==value].index.tolist()\n",
    "    selected_slides = get_slides_wsi_overlay(all_value_slides, slide_rep_df[leiden_clusters], value_cluster_ids[value], only_id=only_id, n_wsi_samples=n_wsi_samples)\n",
    "    for cluster_id in selected_slides:\n",
    "        print('\\tCluster: %s' % cluster_id)\n",
    "        for slide in selected_slides[cluster_id]:\n",
    "            print('\\t\\tWSI: %s' % slide)\n",
    "            dropped_slides.append(slide)\n"
   ]
  },
  {
   "attachments": {},
   "cell_type": "markdown",
   "metadata": {},
   "source": [
    "# Plot WSI image"
   ]
  },
  {
   "cell_type": "code",
   "execution_count": null,
   "metadata": {},
   "outputs": [],
   "source": [
    "# Add manually or overwrite.\n",
    "dropped_slides = ['TCGA-95-7944-01Z-00-DX1', 'TCGA-L9-A5IP-01Z-00-DX1']\n",
    "slide = dropped_slides[1]\n",
    "wsi, wsi_c, slide_clusters = get_wsi_arrays(frame_complete, groupby, slide, img_size=224, downsample=2, img_dicts=data_dicts, colors=colors, pad_pixels=0, legend_margin=1000)"
   ]
  },
  {
   "cell_type": "code",
   "execution_count": null,
   "metadata": {},
   "outputs": [],
   "source": [
    "fontsize   = 30\n",
    "markersize = 15\n",
    "\n",
    "image_clusters, counts = np.unique(slide_clusters, return_counts=True)\n",
    "custom_lines = [Line2D([0], [0], color=colors[image_clusters[index]], lw=markersize) for index in np.argsort(-counts)]\n",
    "names_lines  = []\n",
    "for index in np.argsort(-counts):\n",
    "    hpc = image_clusters[index]\n",
    "    name = 'HPC %2s - Area(%s) %3s - %s' % (hpc, '%', np.round(slide_rep_df.loc[slide,hpc]*100,1), annotations.loc[hpc, 'Summary'])\n",
    "    names_lines.append(name)\n",
    "\n",
    "\n",
    "dpi = 100\n",
    "height, width, _ = wsi.shape\n",
    "figsize = width / float(dpi), height / float(dpi)\n",
    "fig = plt.figure(figsize=figsize)\n",
    "ax  = fig.add_subplot(1, 1, 1)\n",
    "ax.imshow(wsi_c/255.)\n",
    "ax.axis('off')\n",
    "\n",
    "\n",
    "legend = ax.legend(custom_lines, names_lines, title='Histomorphological Phenotype Cluster\\n(HPC)', frameon=False, loc='lower left', \n",
    "                   prop={'weight':'bold', 'size':fontsize}, title_fontproperties={'weight':'bold', 'size':fontsize*1.1}, bbox_to_anchor=(.87, .4))\n",
    "\n",
    "plt.show(fig)\n",
    "gc.collect()"
   ]
  },
  {
   "cell_type": "code",
   "execution_count": null,
   "metadata": {},
   "outputs": [],
   "source": []
  }
 ],
 "metadata": {
  "kernelspec": {
   "display_name": "Python 3",
   "language": "python",
   "name": "python3"
  },
  "language_info": {
   "codemirror_mode": {
    "name": "ipython",
    "version": 3
   },
   "file_extension": ".py",
   "mimetype": "text/x-python",
   "name": "python",
   "nbconvert_exporter": "python",
   "pygments_lexer": "ipython3",
   "version": "3.7.12"
  },
  "orig_nbformat": 4,
  "vscode": {
   "interpreter": {
    "hash": "31f2aee4e71d21fbe5cf8b01ff0e069b9275f58929596ceb00d14d90e3e16cd6"
   }
  }
 },
 "nbformat": 4,
 "nbformat_minor": 2
}

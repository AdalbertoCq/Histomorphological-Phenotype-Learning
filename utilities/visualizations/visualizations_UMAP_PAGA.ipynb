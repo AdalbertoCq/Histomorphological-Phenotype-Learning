{
 "cells": [
  {
   "cell_type": "code",
   "execution_count": 3,
   "metadata": {
    "collapsed": true,
    "pycharm": {
     "name": "#%%\n"
    }
   },
   "outputs": [
    {
     "ename": "ModuleNotFoundError",
     "evalue": "No module named 'scanpy'",
     "output_type": "error",
     "traceback": [
      "\u001B[0;31m---------------------------------------------------------------------------\u001B[0m",
      "\u001B[0;31mModuleNotFoundError\u001B[0m                       Traceback (most recent call last)",
      "\u001B[0;32m<ipython-input-3-702c9f644a03>\u001B[0m in \u001B[0;36m<module>\u001B[0;34m\u001B[0m\n\u001B[1;32m     11\u001B[0m \u001B[0;32mimport\u001B[0m \u001B[0mnumpy\u001B[0m \u001B[0;32mas\u001B[0m \u001B[0mnp\u001B[0m\u001B[0;34m\u001B[0m\u001B[0;34m\u001B[0m\u001B[0m\n\u001B[1;32m     12\u001B[0m \u001B[0;32mimport\u001B[0m \u001B[0mpandas\u001B[0m \u001B[0;32mas\u001B[0m \u001B[0mpd\u001B[0m\u001B[0;34m\u001B[0m\u001B[0;34m\u001B[0m\u001B[0m\n\u001B[0;32m---> 13\u001B[0;31m \u001B[0;32mimport\u001B[0m \u001B[0mscanpy\u001B[0m \u001B[0;32mas\u001B[0m \u001B[0msc\u001B[0m\u001B[0;34m\u001B[0m\u001B[0;34m\u001B[0m\u001B[0m\n\u001B[0m\u001B[1;32m     14\u001B[0m \u001B[0;32mimport\u001B[0m \u001B[0mfastcluster\u001B[0m\u001B[0;34m\u001B[0m\u001B[0;34m\u001B[0m\u001B[0m\n\u001B[1;32m     15\u001B[0m \u001B[0;32mimport\u001B[0m \u001B[0manndata\u001B[0m\u001B[0;34m\u001B[0m\u001B[0;34m\u001B[0m\u001B[0m\n",
      "\u001B[0;31mModuleNotFoundError\u001B[0m: No module named 'scanpy'"
     ]
    }
   ],
   "source": [
    "from matplotlib.colors import LinearSegmentedColormap\n",
    "from matplotlib.colors import TwoSlopeNorm\n",
    "from matplotlib.pyplot import rc_context\n",
    "from mpl_toolkits.axes_grid1 import ImageGrid\n",
    "from skimage.transform import resize\n",
    "import matplotlib.pyplot as plt\n",
    "import matplotlib\n",
    "\n",
    "from plottify import autosize\n",
    "from PIL import Image\n",
    "import seaborn as sns\n",
    "import numpy as np\n",
    "import pandas as pd\n",
    "import scanpy as sc\n",
    "import fastcluster\n",
    "import anndata\n",
    "import random\n",
    "import h5py\n",
    "import sys\n",
    "import os\n",
    "\n",
    "main_path = '/media/adalberto/Disk2/PhD_Workspace'\n",
    "sys.path.append(main_path)\n",
    "from models.clustering.correlations import *\n",
    "from models.clustering.data_processing import *\n",
    "from models.visualization.attention_maps import *\n",
    "from data_manipulation.data import Data"
   ]
  },
  {
   "cell_type": "markdown",
   "metadata": {
    "collapsed": false,
    "pycharm": {
     "name": "#%% md\n"
    }
   },
   "source": [
    "## LUAD vs LUSC HPC Network"
   ]
  },
  {
   "cell_type": "code",
   "execution_count": null,
   "metadata": {
    "collapsed": false,
    "pycharm": {
     "name": "#%%\n"
    }
   },
   "outputs": [],
   "source": [
    "# Dataset name for images.\n",
    "dataset            = 'TCGAFFPE_LUADLUSC_5x_60pc'\n",
    "\n",
    "# Clustering folder details.\n",
    "meta_folder    = 'lungtype_nn250_clusterfold4'\n",
    "meta_field      = 'labels'\n",
    "matching_field  = 'slides'\n",
    "\n",
    "resolution     = 2.0\n",
    "groupby        = 'leiden_%s' % resolution\n",
    "fold_number    = 4\n",
    "\n",
    "folds_pickle       = '%s/utilities/files/LUADLUSC/lungsubtype_Institutions.pkl' % main_path\n",
    "h5_complete_path   = '%s/results_2/BarlowTwins_3/TCGAFFPE_LUADLUSC_5x_60pc_250K/h224_w224_n3_zdim128_filtered/hdf5_TCGAFFPE_LUADLUSC_5x_60pc_he_complete_lungsubtype_survival_filtered.h5' % main_path\n",
    "h5_additional_path = None\n",
    "\n",
    "file_name = h5_complete_path.split('/hdf5_')[1].split('.h5')[0] + '_%s__fold%s' % (groupby.replace('.', 'p'), fold_number)\n",
    "\n",
    "# Setup folder esqueme\n",
    "main_cluster_path = h5_complete_path.split('hdf5_')[0]\n",
    "main_cluster_path = os.path.join(main_cluster_path, meta_folder)\n",
    "figures_path      = os.path.join(main_cluster_path, 'figures')\n",
    "if not os.path.isdir(figures_path):\n",
    "    os.makedirs(figures_path)\n"
   ]
  },
  {
   "cell_type": "code",
   "execution_count": null,
   "metadata": {
    "collapsed": false,
    "pycharm": {
     "name": "#%%\n"
    }
   },
   "outputs": [],
   "source": [
    "# Read H5 AnnData file where the clustering was done.\n",
    "adata_train, h5ad_path = read_h5ad_reference(h5_complete_path, meta_folder, groupby, fold_number)\n"
   ]
  },
  {
   "cell_type": "code",
   "execution_count": 2,
   "metadata": {
    "collapsed": false,
    "pycharm": {
     "name": "#%%\n"
    }
   },
   "outputs": [
    {
     "ename": "NameError",
     "evalue": "name 'os' is not defined",
     "output_type": "error",
     "traceback": [
      "\u001B[0;31m---------------------------------------------------------------------------\u001B[0m",
      "\u001B[0;31mNameError\u001B[0m                                 Traceback (most recent call last)",
      "\u001B[0;32m<ipython-input-2-25ec4c1c4334>\u001B[0m in \u001B[0;36m<module>\u001B[0;34m\u001B[0m\n\u001B[1;32m      1\u001B[0m \u001B[0mdone\u001B[0m \u001B[0;34m=\u001B[0m \u001B[0;32mFalse\u001B[0m\u001B[0;34m\u001B[0m\u001B[0;34m\u001B[0m\u001B[0m\n\u001B[0;32m----> 2\u001B[0;31m \u001B[0;32mif\u001B[0m \u001B[0mos\u001B[0m\u001B[0;34m.\u001B[0m\u001B[0mpath\u001B[0m\u001B[0;34m.\u001B[0m\u001B[0misfile\u001B[0m\u001B[0;34m(\u001B[0m\u001B[0mh5ad_path\u001B[0m\u001B[0;34m.\u001B[0m\u001B[0mreplace\u001B[0m\u001B[0;34m(\u001B[0m\u001B[0;34m'.h5ad'\u001B[0m\u001B[0;34m,\u001B[0m \u001B[0;34m'_paga.h5ad'\u001B[0m\u001B[0;34m)\u001B[0m\u001B[0;34m)\u001B[0m\u001B[0;34m:\u001B[0m\u001B[0;34m\u001B[0m\u001B[0;34m\u001B[0m\u001B[0m\n\u001B[0m\u001B[1;32m      3\u001B[0m     \u001B[0mdone\u001B[0m\u001B[0;34m=\u001B[0m\u001B[0;32mTrue\u001B[0m\u001B[0;34m\u001B[0m\u001B[0;34m\u001B[0m\u001B[0m\n\u001B[1;32m      4\u001B[0m     \u001B[0madata_train\u001B[0m \u001B[0;34m=\u001B[0m \u001B[0manndata\u001B[0m\u001B[0;34m.\u001B[0m\u001B[0mread_h5ad\u001B[0m\u001B[0;34m(\u001B[0m\u001B[0mh5ad_path\u001B[0m\u001B[0;34m.\u001B[0m\u001B[0mreplace\u001B[0m\u001B[0;34m(\u001B[0m\u001B[0;34m'.h5ad'\u001B[0m\u001B[0;34m,\u001B[0m \u001B[0;34m'_paga.h5ad'\u001B[0m\u001B[0;34m)\u001B[0m\u001B[0;34m)\u001B[0m\u001B[0;34m\u001B[0m\u001B[0;34m\u001B[0m\u001B[0m\n\u001B[1;32m      5\u001B[0m     \u001B[0mprint\u001B[0m\u001B[0;34m(\u001B[0m\u001B[0;34m'PAGA file found'\u001B[0m\u001B[0;34m)\u001B[0m\u001B[0;34m\u001B[0m\u001B[0;34m\u001B[0m\u001B[0m\n",
      "\u001B[0;31mNameError\u001B[0m: name 'os' is not defined"
     ]
    }
   ],
   "source": [
    "done = False\n",
    "if os.path.isfile(h5ad_path.replace('.h5ad', '_paga.h5ad')):\n",
    "    done=True\n",
    "    adata_train = anndata.read_h5ad(h5ad_path.replace('.h5ad', '_paga.h5ad'))\n",
    "    print('PAGA file found')\n",
    "else:\n",
    "    sc.tl.paga(adata_train, groups=groupby, neighbors_key='nn_leiden')"
   ]
  },
  {
   "cell_type": "code",
   "execution_count": null,
   "metadata": {
    "collapsed": false,
    "pycharm": {
     "name": "#%%\n"
    }
   },
   "outputs": [],
   "source": [
    "if not done:\n",
    "    # Graph visualization related\n",
    "    layout           = 'fa'  # ‘fa’, ‘fr’, ‘rt’, ‘rt_circular’, ‘drl’, ‘eq_tree’\n",
    "    random_state     = 0\n",
    "    threshold        = 0.29\n",
    "\n",
    "    # Figure related\n",
    "    node_size_scale  = 25\n",
    "    node_size_power  = 0.5\n",
    "    edge_width_scale = .05\n",
    "    fontsize    = 10\n",
    "    fontoutline = 2\n",
    "\n",
    "    meta_field = 'luad'\n",
    "\n",
    "    fig = plt.figure(figsize=(100,10))\n",
    "    ax  = fig.add_subplot(1, 3, 1)\n",
    "    sc.pl.paga(adata_train, layout=layout, random_state=random_state, color=meta_field, threshold=threshold, node_size_scale=node_size_scale, node_size_power=node_size_power,\n",
    "               edge_width_scale=edge_width_scale, fontsize=fontsize, fontoutline=fontoutline, frameon=False, show=False, ax=ax)\n",
    "    plt.show()\n"
   ]
  },
  {
   "cell_type": "code",
   "execution_count": 29,
   "metadata": {
    "collapsed": false,
    "pycharm": {
     "name": "#%%\n"
    }
   },
   "outputs": [],
   "source": [
    "# Run UMAP based on PAGA cluster visualization.\n",
    "if not done:\n",
    "    sc.tl.umap(adata_train, init_pos=\"paga\", neighbors_key='nn_leiden')\n",
    "    adata_train.write(h5ad_path.replace('.h5ad', '_paga.h5ad'))"
   ]
  },
  {
   "cell_type": "code",
   "execution_count": null,
   "metadata": {
    "collapsed": false,
    "pycharm": {
     "name": "#%%\n"
    }
   },
   "outputs": [],
   "source": [
    "# Representations and Cluster Network.\n",
    "def show_umap_leiden(adata, meta_field, layout, random_state, threshold, node_size_scale, node_size_power, edge_width_scale, directory, file_name,\n",
    "                     fontsize=10, fontoutline=2, marker_size=2, ax_size=16, l_size=12, l_t_size=14, l_box_w=1, l_markerscale=1, palette='tab20', figsize=(30,10),\n",
    "                     leiden_name=False):\n",
    "    from matplotlib.lines import Line2D\n",
    "\n",
    "    leiden_clusters = np.unique(adata.obs[groupby].astype(int))\n",
    "    colors = sns.color_palette(palette, len(leiden_clusters))\n",
    "\n",
    "    fig = plt.figure(figsize=figsize)\n",
    "    ax  = fig.add_subplot(1, 3, 1)\n",
    "\n",
    "\n",
    "    ax = sc.pl.umap(adata, ax=ax, color=meta_field, size=marker_size, show=False, frameon=False, na_color='black')\n",
    "    if meta_field == 'luad':\n",
    "        legend_c = ax.legend(loc='best', markerscale=l_markerscale, title='Lung Type', prop={'size': l_size})\n",
    "        legend_c.get_title().set_fontsize(l_t_size)\n",
    "        legend_c.get_frame().set_linewidth(l_box_w)\n",
    "        legend_c.get_texts()[0].set_text('LUSC')\n",
    "        legend_c.get_texts()[1].set_text('LUAD')\n",
    "    ax.set_title('Tile Vector\\nRepresentations', fontsize=ax_size, fontweight='bold')\n",
    "\n",
    "    ax  = fig.add_subplot(1, 3, 2)\n",
    "    sc.pl.umap(adata, ax=ax, color=groupby, size=marker_size, show=False, legend_loc='on data', legend_fontsize=fontsize, legend_fontoutline=fontoutline, frameon=False, palette=colors)\n",
    "    if leiden_name:\n",
    "        ax.set_title('Leiden Clusters', fontsize=ax_size, fontweight='bold')\n",
    "    else:\n",
    "        ax.set_title('Histomorphological Phenotype\\nClusters', fontsize=ax_size, fontweight='bold')\n",
    "\n",
    "    adjust_text(ax.texts)\n",
    "\n",
    "    ax  = fig.add_subplot(1, 3, 3)\n",
    "    names_lines  = ['LUSC', 'LUAD']\n",
    "    sc.pl.paga(adata, layout=layout, random_state=random_state, color=meta_field, threshold=threshold, node_size_scale=node_size_scale, node_size_power=node_size_power, edge_width_scale=edge_width_scale, fontsize=fontsize, fontoutline=fontoutline, frameon=False, show=False, ax=ax)\n",
    "    if meta_field == 'luad':\n",
    "        legend = ax.legend(legend_c.legendHandles, names_lines, title='Lung Type', loc='upper left', prop={'size': l_size})\n",
    "        legend.get_title().set_fontsize(l_t_size)\n",
    "        legend.get_frame().set_linewidth(l_box_w)\n",
    "    if leiden_name:\n",
    "        ax.set_title('Leiden Cluster Network', fontsize=ax_size, fontweight='bold')\n",
    "    else:\n",
    "        ax.set_title('Histomorphological Phenotype\\nCluster Network', fontsize=ax_size, fontweight='bold')\n",
    "    plt.tight_layout()\n",
    "    plt.savefig(os.path.join(directory,file_name))\n",
    "    plt.show()\n",
    "\n",
    "sns.set_theme(style='white')\n",
    "show_umap_leiden(adata_train, meta_field, layout, random_state, threshold, node_size_scale, node_size_power, edge_width_scale, directory=figures_path,\n",
    "                 file_name=file_name + '_clusternetwork_all_anno.jpg', fontsize=25, fontoutline=10, marker_size=5, ax_size=62, l_size=50, l_t_size=55, l_box_w=4,\n",
    "                 l_markerscale=6, palette='tab20', figsize=(50,20))"
   ]
  },
  {
   "cell_type": "markdown",
   "metadata": {
    "collapsed": false,
    "pycharm": {
     "name": "#%% md\n"
    }
   },
   "source": [
    "## LUAD Survival HPC Network"
   ]
  },
  {
   "cell_type": "code",
   "execution_count": null,
   "metadata": {
    "collapsed": false,
    "pycharm": {
     "name": "#%%\n"
    }
   },
   "outputs": [],
   "source": [
    "# Dataset name for images.\n",
    "dataset            = 'TCGAFFPE_LUADLUSC_5x_60pc'\n",
    "\n",
    "# Clustering folder details.\n",
    "meta_folder    = 'luad_overall_survival_nn250_clusterfold0'\n",
    "meta_field      = 'labels'\n",
    "matching_field  = 'samples'\n",
    "\n",
    "resolution     = 2.0\n",
    "groupby        = 'leiden_%s' % resolution\n",
    "fold_number    = 0\n",
    "\n",
    "folds_pickle       = '%s/utilities/files/LUAD/overall_survival_TCGA_folds.pkl'  % main_path\n",
    "h5_complete_path   = '%s/results_2/BarlowTwins_3/TCGAFFPE_LUADLUSC_5x_60pc_250K/h224_w224_n3_zdim128_filtered/hdf5_TCGAFFPE_LUADLUSC_5x_60pc_he_complete_lungsubtype_survival_filtered.h5' % main_path\n",
    "h5_additional_path = None\n",
    "\n",
    "file_name = h5_complete_path.split('/hdf5_')[1].split('.h5')[0] + '_%s__fold%s' % (groupby.replace('.', 'p'), fold_number)\n",
    "\n",
    "# Setup folder esqueme\n",
    "main_cluster_path = h5_complete_path.split('hdf5_')[0]\n",
    "main_cluster_path = os.path.join(main_cluster_path, meta_folder)\n",
    "figures_path      = os.path.join(main_cluster_path, 'figures')\n",
    "if not os.path.isdir(figures_path):\n",
    "    os.makedirs(figures_path)\n",
    "\n",
    "correlation_hovernet = '%s/results/BarlowTwins_3/TCGAFFPE_LUADLUSC_5x_60pc_250K/h224_w224_n3_zdim128_filtered/luad_overall_survival_nn250_clusterfold0/leiden_2p0_fold0/correlations/TCGAFFPE_LUADLUSC_5x_60pc_he_complete_lungsubtype_survival_filtered_leiden_2p0__fold0_luad_overall_survival_nn250_clusterfold0_critical_coef.csv' % main_path\n",
    "hovernet_df = pd.read_csv(correlation_hovernet)\n",
    "hovernet_df = hovernet_df.rename(columns={'Unnamed: 0':'Cell Type'})\n",
    "hovernet_df"
   ]
  },
  {
   "cell_type": "code",
   "execution_count": null,
   "metadata": {
    "collapsed": false,
    "pycharm": {
     "name": "#%%\n"
    }
   },
   "outputs": [],
   "source": [
    "# Read H5 AnnData file where the clustering was done.\n",
    "adata_train, h5ad_path = read_h5ad_reference(h5_complete_path, meta_folder, groupby, fold_number)\n"
   ]
  },
  {
   "cell_type": "code",
   "execution_count": null,
   "metadata": {
    "collapsed": false,
    "pycharm": {
     "name": "#%%\n"
    }
   },
   "outputs": [],
   "source": [
    "done = False\n",
    "if os.path.isfile(h5ad_path.replace('.h5ad', '_paga.h5ad')):\n",
    "    done=True\n",
    "    adata_train = anndata.read_h5ad(h5ad_path.replace('.h5ad', '_paga.h5ad'))\n",
    "else:\n",
    "    sc.tl.paga(adata_train, groups=groupby, neighbors_key='nn_leiden')\n"
   ]
  },
  {
   "cell_type": "code",
   "execution_count": null,
   "metadata": {
    "collapsed": false,
    "pycharm": {
     "name": "#%%\n"
    }
   },
   "outputs": [],
   "source": [
    "if not done:\n",
    "    layout           = 'fa'  # ‘fa’, ‘fr’, ‘rt’, ‘rt_circular’, ‘drl’, ‘eq_tree’\n",
    "    random_state     = 0\n",
    "    threshold        = 0.74\n",
    "\n",
    "    # Figure related\n",
    "    node_size_scale  = 7\n",
    "    node_size_power  = 0.5\n",
    "    edge_width_scale = .05\n",
    "    fontsize    = 15\n",
    "    fontoutline = 2\n",
    "\n",
    "    meta_field = 'luad'\n",
    "\n",
    "    fig = plt.figure(figsize=(100,10))\n",
    "    ax  = fig.add_subplot(1, 3, 1)\n",
    "    sc.pl.paga(adata_train, layout=layout, random_state=random_state, color=meta_field, threshold=threshold, node_size_scale=node_size_scale, node_size_power=node_size_power,\n",
    "               edge_width_scale=edge_width_scale, fontsize=fontsize, fontoutline=fontoutline, frameon=False, show=False, ax=ax)\n",
    "    plt.show()\n"
   ]
  },
  {
   "cell_type": "code",
   "execution_count": null,
   "metadata": {
    "collapsed": false,
    "pycharm": {
     "name": "#%%\n"
    }
   },
   "outputs": [],
   "source": [
    "cap_depletion = False\n",
    "\n",
    "cell_types = list()\n",
    "for cell_type in hovernet_df['Cell Type']:\n",
    "    cell_types.append(cell_type)\n",
    "    for cluster in np.unique(adata_train.obs[groupby]):\n",
    "        value = hovernet_df[hovernet_df['Cell Type']==cell_type][cluster].values[0]\n",
    "        if cap_depletion and value < 0:\n",
    "            value = 0\n",
    "        adata_train.obs.at[adata_train.obs[groupby]==str(cluster), cell_type] = value"
   ]
  },
  {
   "cell_type": "code",
   "execution_count": null,
   "metadata": {
    "collapsed": false,
    "pycharm": {
     "name": "#%%\n"
    }
   },
   "outputs": [],
   "source": [
    "# Graph visualization related\n",
    "layout           = 'fa'  # ‘fa’, ‘fr’, ‘rt’, ‘rt_circular’, ‘drl’, ‘eq_tree’\n",
    "random_state     = 0\n",
    "threshold        = 0.74\n",
    "\n",
    "# Figure related\n",
    "node_size_scale  = 7\n",
    "node_size_power  = 0.5\n",
    "edge_width_scale = .05\n",
    "fontsize    = 15\n",
    "fontoutline = 2\n",
    "\n",
    "cmap = sns.diverging_palette(250, 20, as_cmap=True)\n",
    "\n",
    "sns.set_theme(style='white')\n",
    "fig = plt.figure(figsize=(30,10))\n",
    "\n",
    "ax  = fig.add_subplot(1, 3, 1)\n",
    "ax.set_title('Cell Neoplastic\\nEnrichment', fontweight='bold', fontsize=20)\n",
    "sc.pl.paga(adata_train, layout=layout, random_state=random_state, threshold=threshold, node_size_scale=node_size_scale, node_size_power=node_size_power,\n",
    "           edge_width_scale=edge_width_scale, fontsize=fontsize, fontoutline=fontoutline, frameon=False, show=False, ax=ax, color='cell neoplastic', cmap=cmap, colorbar=False)\n",
    "\n",
    "\n",
    "ax  = fig.add_subplot(1, 3, 2)\n",
    "ax.set_title('Cell Inflammatory\\nEnrichment', fontweight='bold', fontsize=20)\n",
    "sc.pl.paga(adata_train, layout=layout, random_state=random_state, threshold=threshold, node_size_scale=node_size_scale, node_size_power=node_size_power,\n",
    "           edge_width_scale=edge_width_scale, fontsize=fontsize, fontoutline=fontoutline, frameon=False, show=False, ax=ax, color='cell inflammatory', cmap=cmap, colorbar=False)\n",
    "\n",
    "ax  = fig.add_subplot(1, 3, 3)\n",
    "ax.set_title('Cell Dead\\nEnrichment', fontweight='bold', fontsize=20)\n",
    "sc.pl.paga(adata_train, layout=layout, random_state=random_state, threshold=threshold, node_size_scale=node_size_scale, node_size_power=node_size_power,\n",
    "           edge_width_scale=edge_width_scale, fontsize=fontsize, fontoutline=fontoutline, frameon=False, show=False, ax=ax, color='cell dead', cmap=cmap, colorbar=False)\n",
    "\n",
    "plt.show()"
   ]
  }
 ],
 "metadata": {
  "kernelspec": {
   "display_name": "Python 3",
   "language": "python",
   "name": "python3"
  },
  "language_info": {
   "codemirror_mode": {
    "name": "ipython",
    "version": 2
   },
   "file_extension": ".py",
   "mimetype": "text/x-python",
   "name": "python",
   "nbconvert_exporter": "python",
   "pygments_lexer": "ipython2",
   "version": "2.7.6"
  }
 },
 "nbformat": 4,
 "nbformat_minor": 0
}
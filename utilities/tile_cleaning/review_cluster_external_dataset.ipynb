{
 "cells": [
  {
   "cell_type": "code",
   "execution_count": 21,
   "id": "d937b826",
   "metadata": {
    "pycharm": {
     "name": "#%%\n"
    }
   },
   "outputs": [
    {
     "data": {
      "text/html": [
       "<style>.container { width:90% !important; }</style>"
      ],
      "text/plain": [
       "<IPython.core.display.HTML object>"
      ]
     },
     "metadata": {},
     "output_type": "display_data"
    }
   ],
   "source": [
    "# Imports notebook size.\n",
    "from IPython.core.display import display, HTML\n",
    "display(HTML(\"<style>.container { width:90% !important; }</style>\"))\n",
    "\n",
    "from mpl_toolkits.axes_grid1 import ImageGrid\n",
    "import matplotlib.pyplot as plt\n",
    "import pandas as pd\n",
    "import scanpy as sc\n",
    "import anndata\n",
    "import random\n",
    "import umap\n",
    "\n",
    "# Own libraries\n",
    "import sys\n",
    "sys.path.append('/media/adalberto/Disk2/PhD_Workspace')\n",
    "from data_manipulation.data import Data\n",
    "from data_manipulation.utils import store_data\n",
    "from models.evaluation.folds import load_existing_split\n",
    "from models.clustering.data_processing import *\n",
    "from models.clustering.leiden_representations import assign_clusters\n"
   ]
  },
  {
   "cell_type": "code",
   "execution_count": 58,
   "id": "316598cb",
   "metadata": {
    "pycharm": {
     "name": "#%%\n"
    }
   },
   "outputs": [
    {
     "name": "stdout",
     "output_type": "stream",
     "text": [
      "Train Set: /media/adalberto/Disk2/PhD_Workspace/datasets/NYUFFPE_survival_5x/he/patches_h224_w224/hdf5_NYUFFPE_survival_5x_he_train.h5\n",
      "Validation Set: /media/adalberto/Disk2/PhD_Workspace/datasets/NYUFFPE_survival_5x/he/patches_h224_w224/hdf5_NYUFFPE_survival_5x_he_validation.h5\n",
      "Test Set: /media/adalberto/Disk2/PhD_Workspace/datasets/NYUFFPE_survival_5x/he/patches_h224_w224/hdf5_NYUFFPE_survival_5x_he_test.h5\n",
      "\n",
      "Number of samples: 57423\n"
     ]
    }
   ],
   "source": [
    "dbs_path = '/media/adalberto/Disk2/PhD_Workspace'\n",
    "dataset  = 'NYUFFPE_survival_5x'\n",
    "\n",
    "data = Data(dataset=dataset, marker='he', patch_h=224, patch_w=224, n_channels=3, batch_size=64, project_path=dbs_path)\n",
    "print('Number of samples:', data.training.images.shape[0])"
   ]
  },
  {
   "cell_type": "code",
   "execution_count": 59,
   "id": "b3c72962",
   "metadata": {
    "pycharm": {
     "name": "#%%\n"
    }
   },
   "outputs": [
    {
     "name": "stdout",
     "output_type": "stream",
     "text": [
      "Loading representations: /media/adalberto/Disk2/PhD_Workspace/results/ContrastivePathology_BarlowTwins_3/NYU_LUADall_5x/h224_w224_n3_zdim128/hdf5_NYU_LUADall_5x_he_combined.h5\n",
      "Number of samples: 57423\n"
     ]
    }
   ],
   "source": [
    "h5_additional_rep_path = '/media/adalberto/Disk2/PhD_Workspace/results/ContrastivePathology_BarlowTwins_3/NYU_LUADall_5x/h224_w224_n3_zdim128/hdf5_NYU_LUADall_5x_he_combined.h5'\n",
    "meta_field             = 'survival'\n",
    "rep_key                = 'z_latent'\n",
    "\n",
    "additional_frame, additional_dims, additional_rest = representations_to_frame(h5_additional_rep_path, meta_field=meta_field, rep_key=rep_key)\n",
    "print('Number of samples:', additional_frame.shape[0])"
   ]
  },
  {
   "cell_type": "code",
   "execution_count": 11,
   "id": "800655d0",
   "metadata": {
    "pycharm": {
     "name": "#%%\n"
    }
   },
   "outputs": [],
   "source": [
    "# Reference cluster for background/unfocused tiles.\n",
    "anndata_path = '/media/adalberto/Disk2/PhD_Workspace/results/ContrastivePathology_BarlowTwins_3/TCGAFFPE_5x_perP/h224_w224_n3_zdim128/luad_250NN/adatas/TCGAFFPE_5x_perP_he_complete_lung_subtype_leiden_4p0__fold3_train_subsample.h5ad'\n",
    "adata = sc.read_h5ad(anndata_path)\n"
   ]
  },
  {
   "cell_type": "code",
   "execution_count": 12,
   "id": "abb27ab8",
   "metadata": {
    "pycharm": {
     "name": "#%%\n"
    }
   },
   "outputs": [],
   "source": [
    "groupby = [column for column in adata.obs.columns if 'leiden' in column][0]\n",
    "fold    = 3"
   ]
  },
  {
   "cell_type": "code",
   "execution_count": 23,
   "id": "1992b79e",
   "metadata": {
    "pycharm": {
     "name": "#%%\n"
    }
   },
   "outputs": [
    {
     "name": "stderr",
     "output_type": "stream",
     "text": [
      "/home/adalberto/.local/lib/python3.7/site-packages/anndata/_core/anndata.py:120: ImplicitModificationWarning: Transforming to str index.\n",
      "  warnings.warn(\"Transforming to str index.\", ImplicitModificationWarning)\n"
     ]
    }
   ],
   "source": [
    "additional_adata  = anndata.AnnData(X=additional_frame[additional_dims].to_numpy(), obs=additional_frame[additional_rest].astype('category'))\n",
    "sc.tl.ingest(additional_adata, adata, obs=groupby, embedding_method='pca', neighbors_key='nn_leiden')\n"
   ]
  },
  {
   "cell_type": "code",
   "execution_count": 24,
   "id": "a84b0cae",
   "metadata": {
    "pycharm": {
     "name": "#%%\n"
    }
   },
   "outputs": [],
   "source": [
    "clusters_to_review = [75, 71, 66, 49, 12]\n",
    "clusters_to_remove = [86, 83, 82, 80, 77, 76, 74, 73, 70, 68] + clusters_to_review\n"
   ]
  },
  {
   "cell_type": "code",
   "execution_count": 55,
   "id": "6631ebf4",
   "metadata": {
    "pycharm": {
     "name": "#%%\n"
    }
   },
   "outputs": [
    {
     "data": {
      "text/html": [
       "<div>\n",
       "<style scoped>\n",
       "    .dataframe tbody tr th:only-of-type {\n",
       "        vertical-align: middle;\n",
       "    }\n",
       "\n",
       "    .dataframe tbody tr th {\n",
       "        vertical-align: top;\n",
       "    }\n",
       "\n",
       "    .dataframe thead th {\n",
       "        text-align: right;\n",
       "    }\n",
       "</style>\n",
       "<table border=\"1\" class=\"dataframe\">\n",
       "  <thead>\n",
       "    <tr style=\"text-align: right;\">\n",
       "      <th></th>\n",
       "      <th>combined_hist_subtype</th>\n",
       "      <th>combined_labels</th>\n",
       "      <th>combined_patterns</th>\n",
       "      <th>combined_slides</th>\n",
       "      <th>combined_tiles</th>\n",
       "      <th>slides</th>\n",
       "      <th>leiden_4.0</th>\n",
       "    </tr>\n",
       "  </thead>\n",
       "  <tbody>\n",
       "    <tr>\n",
       "      <th>3</th>\n",
       "      <td>None</td>\n",
       "      <td>0.0</td>\n",
       "      <td>None</td>\n",
       "      <td>9064_files_None</td>\n",
       "      <td>29_41.jpeg</td>\n",
       "      <td>9064</td>\n",
       "      <td>75</td>\n",
       "    </tr>\n",
       "    <tr>\n",
       "      <th>8</th>\n",
       "      <td>None</td>\n",
       "      <td>0.0</td>\n",
       "      <td>None</td>\n",
       "      <td>9064_files_None</td>\n",
       "      <td>42_36.jpeg</td>\n",
       "      <td>9064</td>\n",
       "      <td>75</td>\n",
       "    </tr>\n",
       "    <tr>\n",
       "      <th>17</th>\n",
       "      <td>None</td>\n",
       "      <td>0.0</td>\n",
       "      <td>None</td>\n",
       "      <td>9064_files_None</td>\n",
       "      <td>16_31.jpeg</td>\n",
       "      <td>9064</td>\n",
       "      <td>75</td>\n",
       "    </tr>\n",
       "    <tr>\n",
       "      <th>22</th>\n",
       "      <td>None</td>\n",
       "      <td>0.0</td>\n",
       "      <td>None</td>\n",
       "      <td>9064_files_None</td>\n",
       "      <td>27_32.jpeg</td>\n",
       "      <td>9064</td>\n",
       "      <td>75</td>\n",
       "    </tr>\n",
       "    <tr>\n",
       "      <th>23</th>\n",
       "      <td>None</td>\n",
       "      <td>0.0</td>\n",
       "      <td>None</td>\n",
       "      <td>9064_files_None</td>\n",
       "      <td>29_30.jpeg</td>\n",
       "      <td>9064</td>\n",
       "      <td>75</td>\n",
       "    </tr>\n",
       "    <tr>\n",
       "      <th>...</th>\n",
       "      <td>...</td>\n",
       "      <td>...</td>\n",
       "      <td>...</td>\n",
       "      <td>...</td>\n",
       "      <td>...</td>\n",
       "      <td>...</td>\n",
       "      <td>...</td>\n",
       "    </tr>\n",
       "    <tr>\n",
       "      <th>57351</th>\n",
       "      <td>None</td>\n",
       "      <td>0.0</td>\n",
       "      <td>None</td>\n",
       "      <td>13080_files_None</td>\n",
       "      <td>15_14.jpeg</td>\n",
       "      <td>13080</td>\n",
       "      <td>75</td>\n",
       "    </tr>\n",
       "    <tr>\n",
       "      <th>57368</th>\n",
       "      <td>None</td>\n",
       "      <td>0.0</td>\n",
       "      <td>None</td>\n",
       "      <td>13080_files_None</td>\n",
       "      <td>12_10.jpeg</td>\n",
       "      <td>13080</td>\n",
       "      <td>75</td>\n",
       "    </tr>\n",
       "    <tr>\n",
       "      <th>57393</th>\n",
       "      <td>None</td>\n",
       "      <td>0.0</td>\n",
       "      <td>None</td>\n",
       "      <td>13080_files_None</td>\n",
       "      <td>35_16.jpeg</td>\n",
       "      <td>13080</td>\n",
       "      <td>75</td>\n",
       "    </tr>\n",
       "    <tr>\n",
       "      <th>57395</th>\n",
       "      <td>None</td>\n",
       "      <td>0.0</td>\n",
       "      <td>None</td>\n",
       "      <td>13080_files_None</td>\n",
       "      <td>11_9.jpeg</td>\n",
       "      <td>13080</td>\n",
       "      <td>75</td>\n",
       "    </tr>\n",
       "    <tr>\n",
       "      <th>57410</th>\n",
       "      <td>None</td>\n",
       "      <td>0.0</td>\n",
       "      <td>None</td>\n",
       "      <td>13080_files_None</td>\n",
       "      <td>13_9.jpeg</td>\n",
       "      <td>13080</td>\n",
       "      <td>75</td>\n",
       "    </tr>\n",
       "  </tbody>\n",
       "</table>\n",
       "<p>2376 rows × 7 columns</p>\n",
       "</div>"
      ],
      "text/plain": [
       "      combined_hist_subtype combined_labels combined_patterns  \\\n",
       "3                      None             0.0              None   \n",
       "8                      None             0.0              None   \n",
       "17                     None             0.0              None   \n",
       "22                     None             0.0              None   \n",
       "23                     None             0.0              None   \n",
       "...                     ...             ...               ...   \n",
       "57351                  None             0.0              None   \n",
       "57368                  None             0.0              None   \n",
       "57393                  None             0.0              None   \n",
       "57395                  None             0.0              None   \n",
       "57410                  None             0.0              None   \n",
       "\n",
       "        combined_slides combined_tiles slides leiden_4.0  \n",
       "3       9064_files_None     29_41.jpeg   9064         75  \n",
       "8       9064_files_None     42_36.jpeg   9064         75  \n",
       "17      9064_files_None     16_31.jpeg   9064         75  \n",
       "22      9064_files_None     27_32.jpeg   9064         75  \n",
       "23      9064_files_None     29_30.jpeg   9064         75  \n",
       "...                 ...            ...    ...        ...  \n",
       "57351  13080_files_None     15_14.jpeg  13080         75  \n",
       "57368  13080_files_None     12_10.jpeg  13080         75  \n",
       "57393  13080_files_None     35_16.jpeg  13080         75  \n",
       "57395  13080_files_None      11_9.jpeg  13080         75  \n",
       "57410  13080_files_None      13_9.jpeg  13080         75  \n",
       "\n",
       "[2376 rows x 7 columns]"
      ]
     },
     "execution_count": 55,
     "metadata": {},
     "output_type": "execute_result"
    }
   ],
   "source": [
    "data_clusters = additional_adata.obs[additional_adata.obs[groupby].astype(int).isin(clusters_to_remove)]\n",
    "data_clusters\n"
   ]
  },
  {
   "cell_type": "code",
   "execution_count": null,
   "id": "e5805f2b",
   "metadata": {
    "scrolled": true,
    "pycharm": {
     "name": "#%%\n"
    }
   },
   "outputs": [],
   "source": [
    "def cluster_set_images(frame, images, cluster_id, groupby, batches=1):\n",
    "    cluster_frame = frame[frame[groupby].astype(int)==cluster_id]\n",
    "    combined      = cluster_frame.index.tolist()\n",
    "    random.shuffle(combined)\n",
    "    combined_plot = sorted(combined[:100*batches])\n",
    "\n",
    "    for batch in range(batches):\n",
    "        images_cluster = list()\n",
    "        for index in combined_plot[100*batch:100*(batch+1)]:\n",
    "            images_cluster.append(images[int(index)]/255.)\n",
    "\n",
    "        sns.set_theme(style='white')\n",
    "        fig = plt.figure(figsize=(40, 8))\n",
    "        fig.suptitle('Cluster %s' % (cluster_id), fontsize=18, fontweight='bold')\n",
    "        grid = ImageGrid(fig, 111, nrows_ncols=(5, 20), axes_pad=0.1,)\n",
    "\n",
    "        for ax, im in zip(grid, images_cluster):\n",
    "            ax.imshow(im)\n",
    "\n",
    "        plt.show()\n",
    "        sns.set_theme(style='darkgrid')\n",
    "\n",
    "for cluster_id in clusters_to_remove:\n",
    "    print('Cluster', cluster_id, 'Number of samples:', data_clusters[data_clusters[groupby].astype(int)==cluster_id].shape[0])\n",
    "    if data_clusters[data_clusters[groupby].astype(int)==cluster_id].shape[0]<20: continue\n",
    "    cluster_set_images(data_clusters, data.training.images, cluster_id, groupby, batches=5)\n",
    "    print()\n",
    "    print()\n",
    "    print()"
   ]
  },
  {
   "cell_type": "code",
   "execution_count": 60,
   "id": "4c2f8887",
   "metadata": {
    "pycharm": {
     "name": "#%%\n"
    }
   },
   "outputs": [],
   "source": [
    "indexes_remove_path = '/media/adalberto/Disk2/PhD_Workspace/utilities/files/indexes_to_remove'\n",
    "data_remove_path    = os.path.join(indexes_remove_path, dataset)\n",
    "if not os.path.isdir(data_remove_path):\n",
    "    os.makedirs(data_remove_path)"
   ]
  },
  {
   "cell_type": "code",
   "execution_count": 67,
   "id": "8a4ee20f",
   "metadata": {
    "pycharm": {
     "name": "#%%\n"
    }
   },
   "outputs": [],
   "source": [
    "indexes_set = data_clusters.index.astype(int).values.tolist() \n",
    "\n",
    "set_name = data.training.hdf5_path.split('/hdf5_')[1].replace('.h5', '')\n",
    "pickle_path = os.path.join(data_remove_path, '%s.pkl' % set_name)\n",
    "if len(indexes_set) > 0:\n",
    "    store_data(indexes_set, pickle_path)"
   ]
  },
  {
   "cell_type": "code",
   "execution_count": null,
   "id": "5076f351",
   "metadata": {
    "pycharm": {
     "name": "#%%\n"
    }
   },
   "outputs": [],
   "source": []
  }
 ],
 "metadata": {
  "kernelspec": {
   "display_name": "Python 3",
   "language": "python",
   "name": "python3"
  },
  "language_info": {
   "codemirror_mode": {
    "name": "ipython",
    "version": 3
   },
   "file_extension": ".py",
   "mimetype": "text/x-python",
   "name": "python",
   "nbconvert_exporter": "python",
   "pygments_lexer": "ipython3",
   "version": "3.7.12"
  }
 },
 "nbformat": 4,
 "nbformat_minor": 5
}
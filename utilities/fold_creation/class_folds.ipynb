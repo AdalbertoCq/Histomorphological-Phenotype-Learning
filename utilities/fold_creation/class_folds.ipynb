{
 "cells": [
  {
   "cell_type": "code",
   "execution_count": 1,
   "outputs": [],
   "source": [
    "import pandas as pd\n",
    "import numpy as np\n",
    "import pickle\n",
    "import copy\n",
    "import math\n",
    "import os"
   ],
   "metadata": {
    "collapsed": false,
    "pycharm": {
     "name": "#%%\n"
    }
   }
  },
  {
   "cell_type": "code",
   "execution_count": 2,
   "outputs": [],
   "source": [
    "def store_data(data, file_path):\n",
    "    with open(file_path, 'wb') as file:\n",
    "        pickle.dump(data, file)\n",
    "\n",
    "def get_frac_split(meta_df, matching_field, ind_column, num_folds=5):\n",
    "    # Copy dataframe.\n",
    "    df = meta_df.copy(deep=True)\n",
    "\n",
    "    # Get unique classes.\n",
    "    unique_classes = np.unique(meta_df[ind_column])\n",
    "    # randomize rows\n",
    "    df = df.sample(frac=1).reset_index(drop=True)\n",
    "\n",
    "    folds          = dict()\n",
    "    for i in range(num_folds):\n",
    "        folds[i] = dict()\n",
    "        folds[i]['train'] = list()\n",
    "        folds[i]['test']  = list()\n",
    "\n",
    "    for class_ in unique_classes:\n",
    "        # Get slides for class.\n",
    "        slides      = np.unique(df[df[ind_column]==class_][matching_field].values)\n",
    "\n",
    "        # Test size.\n",
    "        num_samples = len(slides)\n",
    "        test_size   = math.floor(num_samples*(1/num_folds))\n",
    "\n",
    "        # Iterate through chunks and add samples to fold.\n",
    "        for i in range(num_folds):\n",
    "            test_sample  = slides[i*test_size:(i+1)*test_size]\n",
    "            train_sample = list(set(slides).difference(set(test_sample)))\n",
    "            folds[i]['train'].extend(train_sample)\n",
    "            folds[i]['test'].extend(test_sample)\n",
    "\n",
    "    return folds\n",
    "\n",
    "def get_folds(meta_df, matching_field, ind_column, num_folds=5, valid_set=False):\n",
    "\n",
    "    # Get initial split for train/test.\n",
    "    folds = get_frac_split(meta_df, matching_field, ind_column, num_folds=num_folds)\n",
    "\n",
    "    for i in range(num_folds):\n",
    "        whole_train_samples = folds[i]['train']\n",
    "        subset_df = meta_df[meta_df[matching_field].isin(whole_train_samples)]\n",
    "        train_val_folds = get_frac_split(subset_df, matching_field, ind_column, num_folds=num_folds)\n",
    "        del folds[i]['train']\n",
    "        folds[i]['train'] = train_val_folds[0]['train']\n",
    "        folds[i]['valid'] = train_val_folds[0]['test']\n",
    "\n",
    "    return folds\n",
    "\n",
    "# Verify: This should all be empty.\n",
    "def sanity_check_overlap(folds, num_folds):\n",
    "    # For each fold, no overlap between cells.\n",
    "    for i in range(num_folds):\n",
    "        result = set(folds[i]['train']).intersection(set(folds[i]['valid']))\n",
    "        if len(result) > 0:\n",
    "            print(result)\n",
    "\n",
    "        result = set(folds[i]['train']).intersection(set(folds[i]['test']))\n",
    "        if len(result) > 0:\n",
    "            print(result)\n",
    "\n",
    "        result = set(folds[i]['valid']).intersection(set(folds[i]['test']))\n",
    "        if len(result) > 0:\n",
    "            print(result)\n",
    "\n",
    "        # No overlap between test sets of all folds.\n",
    "        for i in range(num_folds):\n",
    "            for j in range(num_folds):\n",
    "                if i==j: continue\n",
    "                result = set(folds[i]['test']).intersection(set(folds[j]['test']))\n",
    "                if len(result) > 0:\n",
    "                    print('Fold %s-%s' % (i,j), result)\n",
    "\n",
    "# Fit for legacy code.\n",
    "def fit_format(folds):\n",
    "    slides_folds = dict()\n",
    "    for i, fold in enumerate(folds):\n",
    "        slides_folds[i] = dict()\n",
    "        slides_folds[i]['train'] = [(slide, None, None) for slide in folds[i]['train']]\n",
    "        slides_folds[i]['valid'] = [(slide, None, None) for slide in folds[i]['valid']]\n",
    "        slides_folds[i]['test']  = [(slide, None, None) for slide in folds[i]['test']]\n",
    "\n",
    "    return slides_folds\n"
   ],
   "metadata": {
    "collapsed": false,
    "pycharm": {
     "name": "#%%\n"
    }
   }
  },
  {
   "cell_type": "code",
   "execution_count": null,
   "outputs": [],
   "source": [
    "\n",
    "meta_csv    = './tcga_panCancer.csv'\n",
    "pickle_path = './tcga_panCancer.pkl'\n",
    "\n",
    "\n",
    "\n",
    "# Read meta data file, rename column.\n",
    "meta_df  = pd.read_csv(meta_csv)\n",
    "cancer_types = meta_df['type'].values\n",
    "del meta_df['type']\n",
    "meta_df['cancer_types'] = cancer_types\n",
    "\n",
    "# Create mapping for cancer types and integers.\n",
    "mapping_cancers = dict(zip(np.unique(cancer_types), range(len(np.unique(cancer_types)))))\n",
    "\n",
    "# Map new columns for integer indicator.\n",
    "meta_df['cancer_types_ind'] = meta_df['cancer_types'].astype(str).map(mapping_cancers)"
   ],
   "metadata": {
    "collapsed": false,
    "pycharm": {
     "name": "#%%\n",
     "is_executing": true
    }
   }
  },
  {
   "cell_type": "code",
   "execution_count": 7,
   "outputs": [],
   "source": [
    "\n",
    "folds       = get_folds(meta_df, matching_field='slides', ind_column='cancer_types_ind', num_folds=5, valid_set=True)\n",
    "final_folds = fit_format(folds)\n",
    "\n",
    "# If no output, all good.\n",
    "sanity_check_overlap(folds, num_folds=5)\n",
    "\n",
    "store_data(final_folds, pickle_path)"
   ],
   "metadata": {
    "collapsed": false,
    "pycharm": {
     "name": "#%%\n"
    }
   }
  },
  {
   "cell_type": "code",
   "execution_count": null,
   "outputs": [],
   "source": [],
   "metadata": {
    "collapsed": false,
    "pycharm": {
     "name": "#%%\n"
    }
   }
  }
 ],
 "metadata": {
  "kernelspec": {
   "display_name": "Python 3",
   "language": "python",
   "name": "python3"
  },
  "language_info": {
   "codemirror_mode": {
    "name": "ipython",
    "version": 2
   },
   "file_extension": ".py",
   "mimetype": "text/x-python",
   "name": "python",
   "nbconvert_exporter": "python",
   "pygments_lexer": "ipython2",
   "version": "2.7.6"
  }
 },
 "nbformat": 4,
 "nbformat_minor": 0
}